{
 "cells": [
  {
   "cell_type": "code",
   "execution_count": 92,
   "metadata": {},
   "outputs": [],
   "source": [
    "import pandas as pd\n",
    "import numpy as np\n",
    "from sklearn.linear_model import LinearRegression\n",
    "from sklearn.model_selection import train_test_split\n",
    "from sklearn.linear_model import Ridge\n",
    "from sklearn.linear_model import Lasso\n",
    "from sklearn.neighbors import KNeighborsRegressor\n",
    "import matplotlib.pyplot as plt\n",
    "from sklearn.neighbors import KNeighborsClassifier\n",
    "from sklearn.linear_model import LogisticRegression\n",
    "from sklearn.metrics import accuracy_score\n",
    "from sklearn.preprocessing import MinMaxScaler\n",
    "from sklearn.metrics import mean_squared_error\n",
    "from sklearn.model_selection import GridSearchCV\n",
    "from sklearn import svm, datasets"
   ]
  },
  {
   "cell_type": "code",
   "execution_count": 93,
   "metadata": {},
   "outputs": [],
   "source": [
    "data = pd.read_csv('newMainData.csv')"
   ]
  },
  {
   "cell_type": "code",
   "execution_count": 94,
   "metadata": {},
   "outputs": [],
   "source": [
    "data = data.drop('genres', axis = 1)"
   ]
  },
  {
   "cell_type": "code",
   "execution_count": 95,
   "metadata": {},
   "outputs": [
    {
     "data": {
      "text/plain": [
       "(6955, 20)"
      ]
     },
     "execution_count": 95,
     "metadata": {},
     "output_type": "execute_result"
    }
   ],
   "source": [
    "data.shape"
   ]
  },
  {
   "cell_type": "code",
   "execution_count": 96,
   "metadata": {},
   "outputs": [
    {
     "data": {
      "text/html": [
       "<div>\n",
       "<style scoped>\n",
       "    .dataframe tbody tr th:only-of-type {\n",
       "        vertical-align: middle;\n",
       "    }\n",
       "\n",
       "    .dataframe tbody tr th {\n",
       "        vertical-align: top;\n",
       "    }\n",
       "\n",
       "    .dataframe thead th {\n",
       "        text-align: right;\n",
       "    }\n",
       "</style>\n",
       "<table border=\"1\" class=\"dataframe\">\n",
       "  <thead>\n",
       "    <tr style=\"text-align: right;\">\n",
       "      <th></th>\n",
       "      <th>title</th>\n",
       "      <th>original_title</th>\n",
       "      <th>budget</th>\n",
       "      <th>revenue</th>\n",
       "      <th>profit</th>\n",
       "      <th>success</th>\n",
       "      <th>belongs_to_collection</th>\n",
       "      <th>count_language</th>\n",
       "      <th>runtime</th>\n",
       "      <th>genre</th>\n",
       "      <th>genre_encode</th>\n",
       "      <th>release_date</th>\n",
       "      <th>director</th>\n",
       "      <th>actors</th>\n",
       "      <th>actorAwardNominations</th>\n",
       "      <th>actorAwardWins</th>\n",
       "      <th>actorMovies</th>\n",
       "      <th>directorAwardNominations</th>\n",
       "      <th>directorAwardWins</th>\n",
       "      <th>directorMovies</th>\n",
       "    </tr>\n",
       "  </thead>\n",
       "  <tbody>\n",
       "    <tr>\n",
       "      <th>0</th>\n",
       "      <td>Toy Story</td>\n",
       "      <td>Toy Story</td>\n",
       "      <td>30000000</td>\n",
       "      <td>373554033.0</td>\n",
       "      <td>343554033.0</td>\n",
       "      <td>1</td>\n",
       "      <td>1</td>\n",
       "      <td>1</td>\n",
       "      <td>81.0</td>\n",
       "      <td>Animation</td>\n",
       "      <td>2</td>\n",
       "      <td>1995-10-30</td>\n",
       "      <td>John Lasseter</td>\n",
       "      <td>Tom Hanks</td>\n",
       "      <td>152</td>\n",
       "      <td>84</td>\n",
       "      <td>88</td>\n",
       "      <td>33</td>\n",
       "      <td>37</td>\n",
       "      <td>19</td>\n",
       "    </tr>\n",
       "    <tr>\n",
       "      <th>1</th>\n",
       "      <td>Jumanji</td>\n",
       "      <td>Jumanji</td>\n",
       "      <td>65000000</td>\n",
       "      <td>262797249.0</td>\n",
       "      <td>197797249.0</td>\n",
       "      <td>1</td>\n",
       "      <td>0</td>\n",
       "      <td>2</td>\n",
       "      <td>104.0</td>\n",
       "      <td>Adventure</td>\n",
       "      <td>1</td>\n",
       "      <td>1995-12-15</td>\n",
       "      <td>Joe Johnston</td>\n",
       "      <td>Robin Williams</td>\n",
       "      <td>86</td>\n",
       "      <td>64</td>\n",
       "      <td>108</td>\n",
       "      <td>7</td>\n",
       "      <td>2</td>\n",
       "      <td>15</td>\n",
       "    </tr>\n",
       "    <tr>\n",
       "      <th>2</th>\n",
       "      <td>Waiting to Exhale</td>\n",
       "      <td>Waiting to Exhale</td>\n",
       "      <td>16000000</td>\n",
       "      <td>81452156.0</td>\n",
       "      <td>65452156.0</td>\n",
       "      <td>1</td>\n",
       "      <td>0</td>\n",
       "      <td>1</td>\n",
       "      <td>127.0</td>\n",
       "      <td>Comedy</td>\n",
       "      <td>3</td>\n",
       "      <td>1995-12-22</td>\n",
       "      <td>Forest Whitaker</td>\n",
       "      <td>Whitney Houston</td>\n",
       "      <td>43</td>\n",
       "      <td>18</td>\n",
       "      <td>50</td>\n",
       "      <td>56</td>\n",
       "      <td>56</td>\n",
       "      <td>6</td>\n",
       "    </tr>\n",
       "    <tr>\n",
       "      <th>3</th>\n",
       "      <td>Heat</td>\n",
       "      <td>Heat</td>\n",
       "      <td>60000000</td>\n",
       "      <td>187436818.0</td>\n",
       "      <td>127436818.0</td>\n",
       "      <td>1</td>\n",
       "      <td>0</td>\n",
       "      <td>2</td>\n",
       "      <td>170.0</td>\n",
       "      <td>Action</td>\n",
       "      <td>0</td>\n",
       "      <td>1995-12-15</td>\n",
       "      <td>Michael Mann</td>\n",
       "      <td>Al Pacino</td>\n",
       "      <td>71</td>\n",
       "      <td>46</td>\n",
       "      <td>59</td>\n",
       "      <td>36</td>\n",
       "      <td>21</td>\n",
       "      <td>22</td>\n",
       "    </tr>\n",
       "    <tr>\n",
       "      <th>4</th>\n",
       "      <td>Sudden Death</td>\n",
       "      <td>Sudden Death</td>\n",
       "      <td>35000000</td>\n",
       "      <td>64350171.0</td>\n",
       "      <td>29350171.0</td>\n",
       "      <td>1</td>\n",
       "      <td>0</td>\n",
       "      <td>1</td>\n",
       "      <td>106.0</td>\n",
       "      <td>Action</td>\n",
       "      <td>0</td>\n",
       "      <td>1995-12-22</td>\n",
       "      <td>Peter Hyams</td>\n",
       "      <td>Jean-Claude Van Damme</td>\n",
       "      <td>9</td>\n",
       "      <td>2</td>\n",
       "      <td>71</td>\n",
       "      <td>7</td>\n",
       "      <td>1</td>\n",
       "      <td>24</td>\n",
       "    </tr>\n",
       "  </tbody>\n",
       "</table>\n",
       "</div>"
      ],
      "text/plain": [
       "               title     original_title    budget      revenue       profit  \\\n",
       "0          Toy Story          Toy Story  30000000  373554033.0  343554033.0   \n",
       "1            Jumanji            Jumanji  65000000  262797249.0  197797249.0   \n",
       "2  Waiting to Exhale  Waiting to Exhale  16000000   81452156.0   65452156.0   \n",
       "3               Heat               Heat  60000000  187436818.0  127436818.0   \n",
       "4       Sudden Death       Sudden Death  35000000   64350171.0   29350171.0   \n",
       "\n",
       "   success  belongs_to_collection  count_language  runtime      genre  \\\n",
       "0        1                      1               1     81.0  Animation   \n",
       "1        1                      0               2    104.0  Adventure   \n",
       "2        1                      0               1    127.0     Comedy   \n",
       "3        1                      0               2    170.0     Action   \n",
       "4        1                      0               1    106.0     Action   \n",
       "\n",
       "   genre_encode release_date         director                 actors  \\\n",
       "0             2   1995-10-30    John Lasseter              Tom Hanks   \n",
       "1             1   1995-12-15     Joe Johnston         Robin Williams   \n",
       "2             3   1995-12-22  Forest Whitaker        Whitney Houston   \n",
       "3             0   1995-12-15     Michael Mann              Al Pacino   \n",
       "4             0   1995-12-22      Peter Hyams  Jean-Claude Van Damme   \n",
       "\n",
       "   actorAwardNominations  actorAwardWins  actorMovies  \\\n",
       "0                    152              84           88   \n",
       "1                     86              64          108   \n",
       "2                     43              18           50   \n",
       "3                     71              46           59   \n",
       "4                      9               2           71   \n",
       "\n",
       "   directorAwardNominations  directorAwardWins  directorMovies  \n",
       "0                        33                 37              19  \n",
       "1                         7                  2              15  \n",
       "2                        56                 56               6  \n",
       "3                        36                 21              22  \n",
       "4                         7                  1              24  "
      ]
     },
     "execution_count": 96,
     "metadata": {},
     "output_type": "execute_result"
    }
   ],
   "source": [
    "data.head()"
   ]
  },
  {
   "cell_type": "code",
   "execution_count": 97,
   "metadata": {},
   "outputs": [
    {
     "data": {
      "text/plain": [
       "6955"
      ]
     },
     "execution_count": 97,
     "metadata": {},
     "output_type": "execute_result"
    }
   ],
   "source": [
    "month = []\n",
    "for date in data['release_date']:\n",
    "    try:\n",
    "        split = date.split('-')\n",
    "        month.append(split[1])\n",
    "    except:\n",
    "        print(date)\n",
    "len(month)"
   ]
  },
  {
   "cell_type": "code",
   "execution_count": 98,
   "metadata": {},
   "outputs": [],
   "source": [
    "data['release_month'] = month\n",
    "data = data.drop('release_date', axis = 1)"
   ]
  },
  {
   "cell_type": "code",
   "execution_count": 99,
   "metadata": {},
   "outputs": [
    {
     "data": {
      "text/html": [
       "<div>\n",
       "<style scoped>\n",
       "    .dataframe tbody tr th:only-of-type {\n",
       "        vertical-align: middle;\n",
       "    }\n",
       "\n",
       "    .dataframe tbody tr th {\n",
       "        vertical-align: top;\n",
       "    }\n",
       "\n",
       "    .dataframe thead th {\n",
       "        text-align: right;\n",
       "    }\n",
       "</style>\n",
       "<table border=\"1\" class=\"dataframe\">\n",
       "  <thead>\n",
       "    <tr style=\"text-align: right;\">\n",
       "      <th></th>\n",
       "      <th>title</th>\n",
       "      <th>original_title</th>\n",
       "      <th>budget</th>\n",
       "      <th>revenue</th>\n",
       "      <th>profit</th>\n",
       "      <th>success</th>\n",
       "      <th>belongs_to_collection</th>\n",
       "      <th>count_language</th>\n",
       "      <th>runtime</th>\n",
       "      <th>genre</th>\n",
       "      <th>genre_encode</th>\n",
       "      <th>director</th>\n",
       "      <th>actors</th>\n",
       "      <th>actorAwardNominations</th>\n",
       "      <th>actorAwardWins</th>\n",
       "      <th>actorMovies</th>\n",
       "      <th>directorAwardNominations</th>\n",
       "      <th>directorAwardWins</th>\n",
       "      <th>directorMovies</th>\n",
       "      <th>release_month</th>\n",
       "    </tr>\n",
       "  </thead>\n",
       "  <tbody>\n",
       "    <tr>\n",
       "      <th>0</th>\n",
       "      <td>Toy Story</td>\n",
       "      <td>Toy Story</td>\n",
       "      <td>30000000</td>\n",
       "      <td>373554033.0</td>\n",
       "      <td>343554033.0</td>\n",
       "      <td>1</td>\n",
       "      <td>1</td>\n",
       "      <td>1</td>\n",
       "      <td>81.0</td>\n",
       "      <td>Animation</td>\n",
       "      <td>2</td>\n",
       "      <td>John Lasseter</td>\n",
       "      <td>Tom Hanks</td>\n",
       "      <td>152</td>\n",
       "      <td>84</td>\n",
       "      <td>88</td>\n",
       "      <td>33</td>\n",
       "      <td>37</td>\n",
       "      <td>19</td>\n",
       "      <td>10</td>\n",
       "    </tr>\n",
       "    <tr>\n",
       "      <th>1</th>\n",
       "      <td>Jumanji</td>\n",
       "      <td>Jumanji</td>\n",
       "      <td>65000000</td>\n",
       "      <td>262797249.0</td>\n",
       "      <td>197797249.0</td>\n",
       "      <td>1</td>\n",
       "      <td>0</td>\n",
       "      <td>2</td>\n",
       "      <td>104.0</td>\n",
       "      <td>Adventure</td>\n",
       "      <td>1</td>\n",
       "      <td>Joe Johnston</td>\n",
       "      <td>Robin Williams</td>\n",
       "      <td>86</td>\n",
       "      <td>64</td>\n",
       "      <td>108</td>\n",
       "      <td>7</td>\n",
       "      <td>2</td>\n",
       "      <td>15</td>\n",
       "      <td>12</td>\n",
       "    </tr>\n",
       "    <tr>\n",
       "      <th>2</th>\n",
       "      <td>Waiting to Exhale</td>\n",
       "      <td>Waiting to Exhale</td>\n",
       "      <td>16000000</td>\n",
       "      <td>81452156.0</td>\n",
       "      <td>65452156.0</td>\n",
       "      <td>1</td>\n",
       "      <td>0</td>\n",
       "      <td>1</td>\n",
       "      <td>127.0</td>\n",
       "      <td>Comedy</td>\n",
       "      <td>3</td>\n",
       "      <td>Forest Whitaker</td>\n",
       "      <td>Whitney Houston</td>\n",
       "      <td>43</td>\n",
       "      <td>18</td>\n",
       "      <td>50</td>\n",
       "      <td>56</td>\n",
       "      <td>56</td>\n",
       "      <td>6</td>\n",
       "      <td>12</td>\n",
       "    </tr>\n",
       "    <tr>\n",
       "      <th>3</th>\n",
       "      <td>Heat</td>\n",
       "      <td>Heat</td>\n",
       "      <td>60000000</td>\n",
       "      <td>187436818.0</td>\n",
       "      <td>127436818.0</td>\n",
       "      <td>1</td>\n",
       "      <td>0</td>\n",
       "      <td>2</td>\n",
       "      <td>170.0</td>\n",
       "      <td>Action</td>\n",
       "      <td>0</td>\n",
       "      <td>Michael Mann</td>\n",
       "      <td>Al Pacino</td>\n",
       "      <td>71</td>\n",
       "      <td>46</td>\n",
       "      <td>59</td>\n",
       "      <td>36</td>\n",
       "      <td>21</td>\n",
       "      <td>22</td>\n",
       "      <td>12</td>\n",
       "    </tr>\n",
       "    <tr>\n",
       "      <th>4</th>\n",
       "      <td>Sudden Death</td>\n",
       "      <td>Sudden Death</td>\n",
       "      <td>35000000</td>\n",
       "      <td>64350171.0</td>\n",
       "      <td>29350171.0</td>\n",
       "      <td>1</td>\n",
       "      <td>0</td>\n",
       "      <td>1</td>\n",
       "      <td>106.0</td>\n",
       "      <td>Action</td>\n",
       "      <td>0</td>\n",
       "      <td>Peter Hyams</td>\n",
       "      <td>Jean-Claude Van Damme</td>\n",
       "      <td>9</td>\n",
       "      <td>2</td>\n",
       "      <td>71</td>\n",
       "      <td>7</td>\n",
       "      <td>1</td>\n",
       "      <td>24</td>\n",
       "      <td>12</td>\n",
       "    </tr>\n",
       "  </tbody>\n",
       "</table>\n",
       "</div>"
      ],
      "text/plain": [
       "               title     original_title    budget      revenue       profit  \\\n",
       "0          Toy Story          Toy Story  30000000  373554033.0  343554033.0   \n",
       "1            Jumanji            Jumanji  65000000  262797249.0  197797249.0   \n",
       "2  Waiting to Exhale  Waiting to Exhale  16000000   81452156.0   65452156.0   \n",
       "3               Heat               Heat  60000000  187436818.0  127436818.0   \n",
       "4       Sudden Death       Sudden Death  35000000   64350171.0   29350171.0   \n",
       "\n",
       "   success  belongs_to_collection  count_language  runtime      genre  \\\n",
       "0        1                      1               1     81.0  Animation   \n",
       "1        1                      0               2    104.0  Adventure   \n",
       "2        1                      0               1    127.0     Comedy   \n",
       "3        1                      0               2    170.0     Action   \n",
       "4        1                      0               1    106.0     Action   \n",
       "\n",
       "   genre_encode         director                 actors  \\\n",
       "0             2    John Lasseter              Tom Hanks   \n",
       "1             1     Joe Johnston         Robin Williams   \n",
       "2             3  Forest Whitaker        Whitney Houston   \n",
       "3             0     Michael Mann              Al Pacino   \n",
       "4             0      Peter Hyams  Jean-Claude Van Damme   \n",
       "\n",
       "   actorAwardNominations  actorAwardWins  actorMovies  \\\n",
       "0                    152              84           88   \n",
       "1                     86              64          108   \n",
       "2                     43              18           50   \n",
       "3                     71              46           59   \n",
       "4                      9               2           71   \n",
       "\n",
       "   directorAwardNominations  directorAwardWins  directorMovies release_month  \n",
       "0                        33                 37              19            10  \n",
       "1                         7                  2              15            12  \n",
       "2                        56                 56               6            12  \n",
       "3                        36                 21              22            12  \n",
       "4                         7                  1              24            12  "
      ]
     },
     "execution_count": 99,
     "metadata": {},
     "output_type": "execute_result"
    }
   ],
   "source": [
    "data.head()"
   ]
  },
  {
   "cell_type": "code",
   "execution_count": 100,
   "metadata": {},
   "outputs": [],
   "source": [
    "data = data.dropna()"
   ]
  },
  {
   "cell_type": "code",
   "execution_count": 101,
   "metadata": {},
   "outputs": [
    {
     "data": {
      "text/plain": [
       "(6819, 20)"
      ]
     },
     "execution_count": 101,
     "metadata": {},
     "output_type": "execute_result"
    }
   ],
   "source": [
    "data.shape"
   ]
  },
  {
   "cell_type": "markdown",
   "metadata": {},
   "source": [
    "## Basic Linear Regression"
   ]
  },
  {
   "cell_type": "code",
   "execution_count": 102,
   "metadata": {},
   "outputs": [],
   "source": [
    "trainData, testData = train_test_split(data, test_size=0.30, random_state=42)"
   ]
  },
  {
   "cell_type": "code",
   "execution_count": 103,
   "metadata": {},
   "outputs": [
    {
     "data": {
      "text/plain": [
       "(4773, 20)"
      ]
     },
     "execution_count": 103,
     "metadata": {},
     "output_type": "execute_result"
    }
   ],
   "source": [
    "trainData.shape"
   ]
  },
  {
   "cell_type": "code",
   "execution_count": 104,
   "metadata": {},
   "outputs": [
    {
     "data": {
      "text/plain": [
       "(2046, 20)"
      ]
     },
     "execution_count": 104,
     "metadata": {},
     "output_type": "execute_result"
    }
   ],
   "source": [
    "testData.shape"
   ]
  },
  {
   "cell_type": "code",
   "execution_count": 105,
   "metadata": {},
   "outputs": [],
   "source": [
    "features = trainData[['budget', 'belongs_to_collection', 'count_language', 'genre_encode', 'release_month', 'actorAwardNominations',\n",
    "          'actorAwardWins', 'actorMovies', 'directorAwardNominations','directorAwardWins','directorMovies']].values"
   ]
  },
  {
   "cell_type": "code",
   "execution_count": 106,
   "metadata": {},
   "outputs": [],
   "source": [
    "featuresTest = testData[['budget', 'belongs_to_collection', 'count_language', 'genre_encode', 'release_month', 'actorAwardNominations',\n",
    "          'actorAwardWins', 'actorMovies', 'directorAwardNominations','directorAwardWins','directorMovies']].values"
   ]
  },
  {
   "cell_type": "code",
   "execution_count": 107,
   "metadata": {},
   "outputs": [],
   "source": [
    "trainTarget = trainData['profit'].values\n",
    "testTarget = testData['profit'].values"
   ]
  },
  {
   "cell_type": "code",
   "execution_count": 108,
   "metadata": {},
   "outputs": [],
   "source": [
    "# Scale the data\n",
    "featureScaler = MinMaxScaler()\n",
    "targetScaler = MinMaxScaler()"
   ]
  },
  {
   "cell_type": "code",
   "execution_count": 109,
   "metadata": {},
   "outputs": [
    {
     "name": "stderr",
     "output_type": "stream",
     "text": [
      "/Users/school/anaconda3/lib/python3.7/site-packages/sklearn/utils/validation.py:475: DataConversionWarning: Data with input dtype object was converted to float64 by MinMaxScaler.\n",
      "  warnings.warn(msg, DataConversionWarning)\n"
     ]
    }
   ],
   "source": [
    "featureScaler.fit(features)\n",
    "scaledfeatures = featureScaler.transform(features)\n",
    "scaledtestfeatures = featureScaler.transform(featuresTest)"
   ]
  },
  {
   "cell_type": "code",
   "execution_count": 110,
   "metadata": {},
   "outputs": [],
   "source": [
    "targetScaler.fit(trainTarget.reshape(-1,1))\n",
    "scaledTarget = targetScaler.transform(trainTarget.reshape(-1,1))\n",
    "scaledTestTarget = targetScaler.transform(testTarget.reshape(-1,1))"
   ]
  },
  {
   "cell_type": "code",
   "execution_count": 111,
   "metadata": {},
   "outputs": [],
   "source": [
    "linreg = LinearRegression(fit_intercept = False, normalize = False)\n",
    "linreg.fit(scaledfeatures, scaledTarget)\n",
    "predictions = linreg.predict(scaledtestfeatures)"
   ]
  },
  {
   "cell_type": "code",
   "execution_count": 163,
   "metadata": {},
   "outputs": [],
   "source": [
    "rmse = mean_squared_error(scaledTestTarget, predictions)"
   ]
  },
  {
   "cell_type": "code",
   "execution_count": 164,
   "metadata": {},
   "outputs": [
    {
     "name": "stdout",
     "output_type": "stream",
     "text": [
      "RSME for Linear: 1.0197519945820162e+16\n"
     ]
    }
   ],
   "source": [
    "print(\"RSME for Linear: \" + str(rmse))"
   ]
  },
  {
   "cell_type": "code",
   "execution_count": 131,
   "metadata": {},
   "outputs": [
    {
     "data": {
      "text/plain": [
       "2.7703390466958485e+25"
      ]
     },
     "execution_count": 131,
     "metadata": {},
     "output_type": "execute_result"
    }
   ],
   "source": [
    "targetScaler.inverse_transform(rmse)[0][0]"
   ]
  },
  {
   "cell_type": "code",
   "execution_count": null,
   "metadata": {},
   "outputs": [],
   "source": []
  },
  {
   "cell_type": "code",
   "execution_count": null,
   "metadata": {},
   "outputs": [],
   "source": []
  },
  {
   "cell_type": "code",
   "execution_count": null,
   "metadata": {},
   "outputs": [],
   "source": []
  },
  {
   "cell_type": "code",
   "execution_count": null,
   "metadata": {},
   "outputs": [],
   "source": []
  },
  {
   "cell_type": "code",
   "execution_count": 132,
   "metadata": {},
   "outputs": [],
   "source": [
    "rss = sum((predictions-scaledTestTarget)**2)"
   ]
  },
  {
   "cell_type": "code",
   "execution_count": 133,
   "metadata": {},
   "outputs": [
    {
     "data": {
      "text/plain": [
       "array([1.20963369e+18, 2.74002446e+17, 8.10676136e+18, ...,\n",
       "       3.35429268e+17, 1.38806113e+19, 2.62327253e+15])"
      ]
     },
     "execution_count": 133,
     "metadata": {},
     "output_type": "execute_result"
    }
   ],
   "source": [
    "rss"
   ]
  },
  {
   "cell_type": "code",
   "execution_count": 134,
   "metadata": {},
   "outputs": [
    {
     "data": {
      "text/plain": [
       "-19542620.953352652"
      ]
     },
     "execution_count": 134,
     "metadata": {},
     "output_type": "execute_result"
    }
   ],
   "source": [
    "linreg.intercept_"
   ]
  },
  {
   "cell_type": "code",
   "execution_count": 135,
   "metadata": {},
   "outputs": [
    {
     "data": {
      "text/plain": [
       "array([ 1.90631996e+00,  7.48990812e+07, -3.69292224e+06,  2.97787243e+05,\n",
       "        8.64519877e+05,  1.47106431e+05, -1.59804404e+05, -7.06548981e+04,\n",
       "       -7.17406040e+04,  4.77851511e+05, -6.15797127e+04])"
      ]
     },
     "execution_count": 135,
     "metadata": {},
     "output_type": "execute_result"
    }
   ],
   "source": [
    "linreg.coef_"
   ]
  },
  {
   "cell_type": "code",
   "execution_count": null,
   "metadata": {},
   "outputs": [],
   "source": []
  },
  {
   "cell_type": "code",
   "execution_count": null,
   "metadata": {},
   "outputs": [],
   "source": []
  },
  {
   "cell_type": "code",
   "execution_count": null,
   "metadata": {},
   "outputs": [],
   "source": []
  },
  {
   "cell_type": "code",
   "execution_count": 136,
   "metadata": {},
   "outputs": [],
   "source": [
    "linreg = LinearRegression(fit_intercept = True, normalize=True)\n",
    "linreg.fit(features, trainTarget)\n",
    "predictions = linreg.predict(featuresTest)"
   ]
  },
  {
   "cell_type": "code",
   "execution_count": 137,
   "metadata": {},
   "outputs": [],
   "source": [
    "rss = sum((predictions-testTarget)**2)"
   ]
  },
  {
   "cell_type": "code",
   "execution_count": 138,
   "metadata": {},
   "outputs": [
    {
     "data": {
      "text/plain": [
       "2.091159150697519e+19"
      ]
     },
     "execution_count": 138,
     "metadata": {},
     "output_type": "execute_result"
    }
   ],
   "source": [
    "rss"
   ]
  },
  {
   "cell_type": "code",
   "execution_count": 139,
   "metadata": {},
   "outputs": [],
   "source": [
    "## Use RMSE"
   ]
  },
  {
   "cell_type": "code",
   "execution_count": 140,
   "metadata": {},
   "outputs": [
    {
     "data": {
      "text/plain": [
       "-19542620.953352652"
      ]
     },
     "execution_count": 140,
     "metadata": {},
     "output_type": "execute_result"
    }
   ],
   "source": [
    "linreg.intercept_"
   ]
  },
  {
   "cell_type": "code",
   "execution_count": 141,
   "metadata": {},
   "outputs": [
    {
     "data": {
      "text/plain": [
       "array([ 1.90631996e+00,  7.48990812e+07, -3.69292224e+06,  2.97787243e+05,\n",
       "        8.64519877e+05,  1.47106431e+05, -1.59804404e+05, -7.06548981e+04,\n",
       "       -7.17406040e+04,  4.77851511e+05, -6.15797127e+04])"
      ]
     },
     "execution_count": 141,
     "metadata": {},
     "output_type": "execute_result"
    }
   ],
   "source": [
    "linreg.coef_"
   ]
  },
  {
   "cell_type": "code",
   "execution_count": 142,
   "metadata": {},
   "outputs": [
    {
     "data": {
      "text/plain": [
       "Text(0.5,1,'Plain Regression Model')"
      ]
     },
     "execution_count": 142,
     "metadata": {},
     "output_type": "execute_result"
    },
    {
     "data": {
      "image/png": "[encoded data removed]",
      "text/plain": [
       "<Figure size 432x288 with 1 Axes>"
      ]
     },
     "metadata": {
      "needs_background": "light"
     },
     "output_type": "display_data"
    }
   ],
   "source": [
    "plt.scatter(testTarget, predictions)\n",
    "plt.xlabel(\"True Values\")\n",
    "plt.ylabel(\"Predictions\")\n",
    "plt.ylim(-100000,1000000000)\n",
    "plt.xlim(-100000,1000000000)\n",
    "plt.title(\"Plain Regression Model\")"
   ]
  },
  {
   "cell_type": "markdown",
   "metadata": {},
   "source": [
    "## Using ridge regression"
   ]
  },
  {
   "cell_type": "code",
   "execution_count": 143,
   "metadata": {},
   "outputs": [],
   "source": [
    "alpha_ridge = [1e-15, 1e-10, 1e-8, 1e-6, 1e-4, 1e-3,1e-2, 1, 5, 10, 20, 50]\n",
    "\n",
    "\n",
    "# .001 to 10 "
   ]
  },
  {
   "cell_type": "code",
   "execution_count": 144,
   "metadata": {},
   "outputs": [],
   "source": [
    "col = ['rss','intercept'] + ['coef_x_%d'%i for i in range(1,12)]\n",
    "ind = ['alpha_%.2g'%alpha_ridge[i] for i in range(0,12)]\n",
    "coef_matrix_ridge = pd.DataFrame(index=ind, columns=col)"
   ]
  },
  {
   "cell_type": "code",
   "execution_count": 145,
   "metadata": {},
   "outputs": [],
   "source": [
    "models_to_plot = {1e-15:231, 1e-10:232, 1e-4:233, 1:234, 5:235, 10:236}"
   ]
  },
  {
   "cell_type": "code",
   "execution_count": 146,
   "metadata": {
    "scrolled": true
   },
   "outputs": [
    {
     "data": {
      "image/png": "[encoded data removed]",
      "text/plain": [
       "<Figure size 432x288 with 6 Axes>"
      ]
     },
     "metadata": {
      "needs_background": "light"
     },
     "output_type": "display_data"
    }
   ],
   "source": [
    "for i in range(0,12):\n",
    "    ridgeReg = Ridge(alpha = alpha_ridge[i], fit_intercept = True, normalize = True)\n",
    "    ridgeReg.fit(features, trainTarget)\n",
    "    predictions = ridgeReg.predict(featuresTest)\n",
    "    rss = sum((predictions-testTarget)**2)\n",
    "    \n",
    "    \n",
    "    \n",
    "    # Sanity Check\n",
    "    modelInfo = [rss]\n",
    "    modelInfo.extend([ridgeReg.intercept_])\n",
    "    modelInfo.extend(ridgeReg.coef_)\n",
    "    coef_matrix_ridge.iloc[i,] = modelInfo\n",
    "    \n",
    "    if alpha_ridge[i] in models_to_plot:\n",
    "        plt.subplot(models_to_plot[alpha_ridge[i]])\n",
    "        plt.tight_layout()\n",
    "        plt.plot(testTarget,predictions, '.')\n",
    "        plt.title('Plot for alpha: %.3g'%alpha_ridge[i])"
   ]
  },
  {
   "cell_type": "code",
   "execution_count": null,
   "metadata": {},
   "outputs": [],
   "source": []
  },
  {
   "cell_type": "code",
   "execution_count": 147,
   "metadata": {},
   "outputs": [],
   "source": [
    "# plot against alpha vs training error(validation error)\n",
    "# RMSE\n",
    "# Use MinMaxScaler\n",
    "# CROSS VALIDATE"
   ]
  },
  {
   "cell_type": "code",
   "execution_count": 148,
   "metadata": {},
   "outputs": [
    {
     "data": {
      "text/html": [
       "<div>\n",
       "<style scoped>\n",
       "    .dataframe tbody tr th:only-of-type {\n",
       "        vertical-align: middle;\n",
       "    }\n",
       "\n",
       "    .dataframe tbody tr th {\n",
       "        vertical-align: top;\n",
       "    }\n",
       "\n",
       "    .dataframe thead th {\n",
       "        text-align: right;\n",
       "    }\n",
       "</style>\n",
       "<table border=\"1\" class=\"dataframe\">\n",
       "  <thead>\n",
       "    <tr style=\"text-align: right;\">\n",
       "      <th></th>\n",
       "      <th>rss</th>\n",
       "      <th>intercept</th>\n",
       "      <th>coef_x_1</th>\n",
       "      <th>coef_x_2</th>\n",
       "      <th>coef_x_3</th>\n",
       "      <th>coef_x_4</th>\n",
       "      <th>coef_x_5</th>\n",
       "      <th>coef_x_6</th>\n",
       "      <th>coef_x_7</th>\n",
       "      <th>coef_x_8</th>\n",
       "      <th>coef_x_9</th>\n",
       "      <th>coef_x_10</th>\n",
       "      <th>coef_x_11</th>\n",
       "    </tr>\n",
       "  </thead>\n",
       "  <tbody>\n",
       "    <tr>\n",
       "      <th>alpha_1e-15</th>\n",
       "      <td>2.09116e+19</td>\n",
       "      <td>-1.95426e+07</td>\n",
       "      <td>1.90632</td>\n",
       "      <td>7.48991e+07</td>\n",
       "      <td>-3.69292e+06</td>\n",
       "      <td>297787</td>\n",
       "      <td>864520</td>\n",
       "      <td>147106</td>\n",
       "      <td>-159804</td>\n",
       "      <td>-70654.9</td>\n",
       "      <td>-71740.6</td>\n",
       "      <td>477852</td>\n",
       "      <td>-61579.7</td>\n",
       "    </tr>\n",
       "    <tr>\n",
       "      <th>alpha_1e-10</th>\n",
       "      <td>2.09116e+19</td>\n",
       "      <td>-1.95426e+07</td>\n",
       "      <td>1.90632</td>\n",
       "      <td>7.48991e+07</td>\n",
       "      <td>-3.69292e+06</td>\n",
       "      <td>297787</td>\n",
       "      <td>864520</td>\n",
       "      <td>147106</td>\n",
       "      <td>-159804</td>\n",
       "      <td>-70654.9</td>\n",
       "      <td>-71740.6</td>\n",
       "      <td>477852</td>\n",
       "      <td>-61579.7</td>\n",
       "    </tr>\n",
       "    <tr>\n",
       "      <th>alpha_1e-08</th>\n",
       "      <td>2.09116e+19</td>\n",
       "      <td>-1.95426e+07</td>\n",
       "      <td>1.90632</td>\n",
       "      <td>7.48991e+07</td>\n",
       "      <td>-3.69292e+06</td>\n",
       "      <td>297787</td>\n",
       "      <td>864520</td>\n",
       "      <td>147106</td>\n",
       "      <td>-159804</td>\n",
       "      <td>-70654.9</td>\n",
       "      <td>-71740.6</td>\n",
       "      <td>477851</td>\n",
       "      <td>-61579.7</td>\n",
       "    </tr>\n",
       "    <tr>\n",
       "      <th>alpha_1e-06</th>\n",
       "      <td>2.09116e+19</td>\n",
       "      <td>-1.95426e+07</td>\n",
       "      <td>1.90632</td>\n",
       "      <td>7.4899e+07</td>\n",
       "      <td>-3.69291e+06</td>\n",
       "      <td>297785</td>\n",
       "      <td>864519</td>\n",
       "      <td>147106</td>\n",
       "      <td>-159803</td>\n",
       "      <td>-70654.9</td>\n",
       "      <td>-71737.4</td>\n",
       "      <td>477847</td>\n",
       "      <td>-61579.5</td>\n",
       "    </tr>\n",
       "    <tr>\n",
       "      <th>alpha_0.0001</th>\n",
       "      <td>2.09114e+19</td>\n",
       "      <td>-1.95371e+07</td>\n",
       "      <td>1.90613</td>\n",
       "      <td>7.48959e+07</td>\n",
       "      <td>-3.6917e+06</td>\n",
       "      <td>297549</td>\n",
       "      <td>864462</td>\n",
       "      <td>147027</td>\n",
       "      <td>-159636</td>\n",
       "      <td>-70652.2</td>\n",
       "      <td>-71424.2</td>\n",
       "      <td>477415</td>\n",
       "      <td>-61561.4</td>\n",
       "    </tr>\n",
       "    <tr>\n",
       "      <th>alpha_0.001</th>\n",
       "      <td>2.09098e+19</td>\n",
       "      <td>-1.94874e+07</td>\n",
       "      <td>1.9044</td>\n",
       "      <td>7.48676e+07</td>\n",
       "      <td>-3.68075e+06</td>\n",
       "      <td>295403</td>\n",
       "      <td>863945</td>\n",
       "      <td>146319</td>\n",
       "      <td>-158134</td>\n",
       "      <td>-70627.6</td>\n",
       "      <td>-68617.7</td>\n",
       "      <td>473540</td>\n",
       "      <td>-61396.8</td>\n",
       "    </tr>\n",
       "    <tr>\n",
       "      <th>alpha_0.01</th>\n",
       "      <td>2.08947e+19</td>\n",
       "      <td>-1.89955e+07</td>\n",
       "      <td>1.88732</td>\n",
       "      <td>7.45789e+07</td>\n",
       "      <td>-3.57459e+06</td>\n",
       "      <td>274131</td>\n",
       "      <td>858773</td>\n",
       "      <td>140179</td>\n",
       "      <td>-144599</td>\n",
       "      <td>-70371.4</td>\n",
       "      <td>-44115.2</td>\n",
       "      <td>439424</td>\n",
       "      <td>-59774.3</td>\n",
       "    </tr>\n",
       "    <tr>\n",
       "      <th>alpha_1</th>\n",
       "      <td>2.30122e+19</td>\n",
       "      <td>1.03788e+07</td>\n",
       "      <td>0.968639</td>\n",
       "      <td>4.71007e+07</td>\n",
       "      <td>130571</td>\n",
       "      <td>-425134</td>\n",
       "      <td>525330</td>\n",
       "      <td>99496</td>\n",
       "      <td>52277.2</td>\n",
       "      <td>-38203.8</td>\n",
       "      <td>87801.9</td>\n",
       "      <td>137364</td>\n",
       "      <td>-2725.83</td>\n",
       "    </tr>\n",
       "    <tr>\n",
       "      <th>alpha_5</th>\n",
       "      <td>2.86225e+19</td>\n",
       "      <td>3.73015e+07</td>\n",
       "      <td>0.335828</td>\n",
       "      <td>1.77584e+07</td>\n",
       "      <td>615755</td>\n",
       "      <td>-280882</td>\n",
       "      <td>222821</td>\n",
       "      <td>53389.1</td>\n",
       "      <td>52707.1</td>\n",
       "      <td>-10419.9</td>\n",
       "      <td>45695.8</td>\n",
       "      <td>61412</td>\n",
       "      <td>5453.35</td>\n",
       "    </tr>\n",
       "    <tr>\n",
       "      <th>alpha_10</th>\n",
       "      <td>3.06047e+19</td>\n",
       "      <td>4.51997e+07</td>\n",
       "      <td>0.185594</td>\n",
       "      <td>9.93973e+06</td>\n",
       "      <td>424611</td>\n",
       "      <td>-171714</td>\n",
       "      <td>131620</td>\n",
       "      <td>32884.6</td>\n",
       "      <td>35131.6</td>\n",
       "      <td>-5137.93</td>\n",
       "      <td>28246.5</td>\n",
       "      <td>37283.9</td>\n",
       "      <td>3951.07</td>\n",
       "    </tr>\n",
       "    <tr>\n",
       "      <th>alpha_20</th>\n",
       "      <td>3.18996e+19</td>\n",
       "      <td>5.01948e+07</td>\n",
       "      <td>0.098034</td>\n",
       "      <td>5.28182e+06</td>\n",
       "      <td>251450</td>\n",
       "      <td>-95628.7</td>\n",
       "      <td>72588.3</td>\n",
       "      <td>18530.8</td>\n",
       "      <td>20609.7</td>\n",
       "      <td>-2495.98</td>\n",
       "      <td>15993.3</td>\n",
       "      <td>20929.8</td>\n",
       "      <td>2396.13</td>\n",
       "    </tr>\n",
       "    <tr>\n",
       "      <th>alpha_50</th>\n",
       "      <td>3.28102e+19</td>\n",
       "      <td>5.36537e+07</td>\n",
       "      <td>0.0406024</td>\n",
       "      <td>2.1948e+06</td>\n",
       "      <td>111751</td>\n",
       "      <td>-40916</td>\n",
       "      <td>30984.5</td>\n",
       "      <td>8013.08</td>\n",
       "      <td>9132.82</td>\n",
       "      <td>-969.75</td>\n",
       "      <td>6945.18</td>\n",
       "      <td>9043.84</td>\n",
       "      <td>1080.73</td>\n",
       "    </tr>\n",
       "  </tbody>\n",
       "</table>\n",
       "</div>"
      ],
      "text/plain": [
       "                      rss    intercept   coef_x_1     coef_x_2     coef_x_3  \\\n",
       "alpha_1e-15   2.09116e+19 -1.95426e+07    1.90632  7.48991e+07 -3.69292e+06   \n",
       "alpha_1e-10   2.09116e+19 -1.95426e+07    1.90632  7.48991e+07 -3.69292e+06   \n",
       "alpha_1e-08   2.09116e+19 -1.95426e+07    1.90632  7.48991e+07 -3.69292e+06   \n",
       "alpha_1e-06   2.09116e+19 -1.95426e+07    1.90632   7.4899e+07 -3.69291e+06   \n",
       "alpha_0.0001  2.09114e+19 -1.95371e+07    1.90613  7.48959e+07  -3.6917e+06   \n",
       "alpha_0.001   2.09098e+19 -1.94874e+07     1.9044  7.48676e+07 -3.68075e+06   \n",
       "alpha_0.01    2.08947e+19 -1.89955e+07    1.88732  7.45789e+07 -3.57459e+06   \n",
       "alpha_1       2.30122e+19  1.03788e+07   0.968639  4.71007e+07       130571   \n",
       "alpha_5       2.86225e+19  3.73015e+07   0.335828  1.77584e+07       615755   \n",
       "alpha_10      3.06047e+19  4.51997e+07   0.185594  9.93973e+06       424611   \n",
       "alpha_20      3.18996e+19  5.01948e+07   0.098034  5.28182e+06       251450   \n",
       "alpha_50      3.28102e+19  5.36537e+07  0.0406024   2.1948e+06       111751   \n",
       "\n",
       "             coef_x_4 coef_x_5 coef_x_6 coef_x_7 coef_x_8 coef_x_9 coef_x_10  \\\n",
       "alpha_1e-15    297787   864520   147106  -159804 -70654.9 -71740.6    477852   \n",
       "alpha_1e-10    297787   864520   147106  -159804 -70654.9 -71740.6    477852   \n",
       "alpha_1e-08    297787   864520   147106  -159804 -70654.9 -71740.6    477851   \n",
       "alpha_1e-06    297785   864519   147106  -159803 -70654.9 -71737.4    477847   \n",
       "alpha_0.0001   297549   864462   147027  -159636 -70652.2 -71424.2    477415   \n",
       "alpha_0.001    295403   863945   146319  -158134 -70627.6 -68617.7    473540   \n",
       "alpha_0.01     274131   858773   140179  -144599 -70371.4 -44115.2    439424   \n",
       "alpha_1       -425134   525330    99496  52277.2 -38203.8  87801.9    137364   \n",
       "alpha_5       -280882   222821  53389.1  52707.1 -10419.9  45695.8     61412   \n",
       "alpha_10      -171714   131620  32884.6  35131.6 -5137.93  28246.5   37283.9   \n",
       "alpha_20     -95628.7  72588.3  18530.8  20609.7 -2495.98  15993.3   20929.8   \n",
       "alpha_50       -40916  30984.5  8013.08  9132.82  -969.75  6945.18   9043.84   \n",
       "\n",
       "             coef_x_11  \n",
       "alpha_1e-15   -61579.7  \n",
       "alpha_1e-10   -61579.7  \n",
       "alpha_1e-08   -61579.7  \n",
       "alpha_1e-06   -61579.5  \n",
       "alpha_0.0001  -61561.4  \n",
       "alpha_0.001   -61396.8  \n",
       "alpha_0.01    -59774.3  \n",
       "alpha_1       -2725.83  \n",
       "alpha_5        5453.35  \n",
       "alpha_10       3951.07  \n",
       "alpha_20       2396.13  \n",
       "alpha_50       1080.73  "
      ]
     },
     "execution_count": 148,
     "metadata": {},
     "output_type": "execute_result"
    }
   ],
   "source": [
    "coef_matrix_ridge"
   ]
  },
  {
   "cell_type": "code",
   "execution_count": null,
   "metadata": {},
   "outputs": [],
   "source": []
  },
  {
   "cell_type": "markdown",
   "metadata": {},
   "source": [
    "## Lasso Regression"
   ]
  },
  {
   "cell_type": "code",
   "execution_count": 158,
   "metadata": {},
   "outputs": [],
   "source": [
    "alpha_lasso = [1, 10, 50, 500, 5000, 15000, 50000, 100000, 200000]"
   ]
  },
  {
   "cell_type": "code",
   "execution_count": 159,
   "metadata": {},
   "outputs": [],
   "source": [
    "col = ['rss','intercept'] + ['coef_x_%d'%i for i in range(1,12)]\n",
    "ind = ['alpha_%.2g'%alpha_lasso[i] for i in range(0,9)]\n",
    "coef_matrix_lasso = pd.DataFrame(index=ind, columns=col)"
   ]
  },
  {
   "cell_type": "code",
   "execution_count": 165,
   "metadata": {},
   "outputs": [
    {
     "data": {
      "text/plain": [
       "array([[25530000, 0, 1, ..., 3, 0, 8],\n",
       "       [900000, 0, 1, ..., 7, 14, 74],\n",
       "       [4000000, 1, 1, ..., 6, 3, 20],\n",
       "       ...,\n",
       "       [700000, 0, 1, ..., 0, 0, 4],\n",
       "       [50000000, 0, 1, ..., 36, 20, 5],\n",
       "       [10000000, 0, 1, ..., 7, 2, 22]], dtype=object)"
      ]
     },
     "execution_count": 165,
     "metadata": {},
     "output_type": "execute_result"
    }
   ],
   "source": [
    "models_to_plot = {1:231, 5000:232, 50000:233, 100000:234}\n"
   ]
  },
  {
   "cell_type": "code",
   "execution_count": 169,
   "metadata": {},
   "outputs": [
    {
     "name": "stdout",
     "output_type": "stream",
     "text": [
      "RMSE: 1.0220715425708324e+16\n",
      "RMSE: 1.022068137151927e+16\n",
      "RMSE: 1.0220530594939916e+16\n",
      "RMSE: 1.021889740219248e+16\n",
      "RMSE: 1.020015310905429e+16\n",
      "RMSE: 1.0173512005092736e+16\n",
      "RMSE: 1.0140996454559992e+16\n",
      "RMSE: 1.0180111771176982e+16\n",
      "RMSE: 1.0374083388948368e+16\n"
     ]
    },
    {
     "data": {
      "image/png": "[encoded data removed]",
      "text/plain": [
       "<Figure size 432x288 with 4 Axes>"
      ]
     },
     "metadata": {
      "needs_background": "light"
     },
     "output_type": "display_data"
    }
   ],
   "source": [
    "for i in range(0,9):\n",
    "    lassoReg = Lasso(alpha = alpha_lasso[i], fit_intercept = True, normalize = True)\n",
    "    lassoReg.fit(features, trainTarget)\n",
    "    predictions = lassoReg.predict(featuresTest)\n",
    "    rss = sum((predictions-testTarget)**2)\n",
    "    \n",
    "    trainRsme = mean_squared_error(testTarget , predictions)\n",
    "    print(\"RMSE: \" + str(trainRsme))\n",
    "    \n",
    "    modelInfo = [rss]\n",
    "    modelInfo.extend([lassoReg.intercept_])\n",
    "    modelInfo.extend(lassoReg.coef_)\n",
    "    coef_matrix_lasso.iloc[i,] = modelInfo\n",
    "    \n",
    "    if alpha_lasso[i] in models_to_plot:\n",
    "        plt.subplot(models_to_plot[alpha_lasso[i]])\n",
    "        plt.tight_layout()\n",
    "        plt.plot(testTarget,predictions, '.')\n",
    "        plt.title('Plot for alpha: %.3g'%alpha_lasso[i])"
   ]
  },
  {
   "cell_type": "code",
   "execution_count": 153,
   "metadata": {},
   "outputs": [
    {
     "data": {
      "text/html": [
       "<div>\n",
       "<style scoped>\n",
       "    .dataframe tbody tr th:only-of-type {\n",
       "        vertical-align: middle;\n",
       "    }\n",
       "\n",
       "    .dataframe tbody tr th {\n",
       "        vertical-align: top;\n",
       "    }\n",
       "\n",
       "    .dataframe thead th {\n",
       "        text-align: right;\n",
       "    }\n",
       "</style>\n",
       "<table border=\"1\" class=\"dataframe\">\n",
       "  <thead>\n",
       "    <tr style=\"text-align: right;\">\n",
       "      <th></th>\n",
       "      <th>rss</th>\n",
       "      <th>intercept</th>\n",
       "      <th>coef_x_1</th>\n",
       "      <th>coef_x_2</th>\n",
       "      <th>coef_x_3</th>\n",
       "      <th>coef_x_4</th>\n",
       "      <th>coef_x_5</th>\n",
       "      <th>coef_x_6</th>\n",
       "      <th>coef_x_7</th>\n",
       "      <th>coef_x_8</th>\n",
       "      <th>coef_x_9</th>\n",
       "      <th>coef_x_10</th>\n",
       "      <th>coef_x_11</th>\n",
       "    </tr>\n",
       "  </thead>\n",
       "  <tbody>\n",
       "    <tr>\n",
       "      <th>alpha_1</th>\n",
       "      <td>NaN</td>\n",
       "      <td>NaN</td>\n",
       "      <td>NaN</td>\n",
       "      <td>NaN</td>\n",
       "      <td>NaN</td>\n",
       "      <td>NaN</td>\n",
       "      <td>NaN</td>\n",
       "      <td>NaN</td>\n",
       "      <td>NaN</td>\n",
       "      <td>NaN</td>\n",
       "      <td>NaN</td>\n",
       "      <td>NaN</td>\n",
       "      <td>NaN</td>\n",
       "    </tr>\n",
       "    <tr>\n",
       "      <th>alpha_10</th>\n",
       "      <td>NaN</td>\n",
       "      <td>NaN</td>\n",
       "      <td>NaN</td>\n",
       "      <td>NaN</td>\n",
       "      <td>NaN</td>\n",
       "      <td>NaN</td>\n",
       "      <td>NaN</td>\n",
       "      <td>NaN</td>\n",
       "      <td>NaN</td>\n",
       "      <td>NaN</td>\n",
       "      <td>NaN</td>\n",
       "      <td>NaN</td>\n",
       "      <td>NaN</td>\n",
       "    </tr>\n",
       "    <tr>\n",
       "      <th>alpha_50</th>\n",
       "      <td>NaN</td>\n",
       "      <td>NaN</td>\n",
       "      <td>NaN</td>\n",
       "      <td>NaN</td>\n",
       "      <td>NaN</td>\n",
       "      <td>NaN</td>\n",
       "      <td>NaN</td>\n",
       "      <td>NaN</td>\n",
       "      <td>NaN</td>\n",
       "      <td>NaN</td>\n",
       "      <td>NaN</td>\n",
       "      <td>NaN</td>\n",
       "      <td>NaN</td>\n",
       "    </tr>\n",
       "    <tr>\n",
       "      <th>alpha_5e+02</th>\n",
       "      <td>NaN</td>\n",
       "      <td>NaN</td>\n",
       "      <td>NaN</td>\n",
       "      <td>NaN</td>\n",
       "      <td>NaN</td>\n",
       "      <td>NaN</td>\n",
       "      <td>NaN</td>\n",
       "      <td>NaN</td>\n",
       "      <td>NaN</td>\n",
       "      <td>NaN</td>\n",
       "      <td>NaN</td>\n",
       "      <td>NaN</td>\n",
       "      <td>NaN</td>\n",
       "    </tr>\n",
       "    <tr>\n",
       "      <th>alpha_5e+03</th>\n",
       "      <td>NaN</td>\n",
       "      <td>NaN</td>\n",
       "      <td>NaN</td>\n",
       "      <td>NaN</td>\n",
       "      <td>NaN</td>\n",
       "      <td>NaN</td>\n",
       "      <td>NaN</td>\n",
       "      <td>NaN</td>\n",
       "      <td>NaN</td>\n",
       "      <td>NaN</td>\n",
       "      <td>NaN</td>\n",
       "      <td>NaN</td>\n",
       "      <td>NaN</td>\n",
       "    </tr>\n",
       "    <tr>\n",
       "      <th>alpha_1.5e+04</th>\n",
       "      <td>NaN</td>\n",
       "      <td>NaN</td>\n",
       "      <td>NaN</td>\n",
       "      <td>NaN</td>\n",
       "      <td>NaN</td>\n",
       "      <td>NaN</td>\n",
       "      <td>NaN</td>\n",
       "      <td>NaN</td>\n",
       "      <td>NaN</td>\n",
       "      <td>NaN</td>\n",
       "      <td>NaN</td>\n",
       "      <td>NaN</td>\n",
       "      <td>NaN</td>\n",
       "    </tr>\n",
       "    <tr>\n",
       "      <th>alpha_5e+04</th>\n",
       "      <td>NaN</td>\n",
       "      <td>NaN</td>\n",
       "      <td>NaN</td>\n",
       "      <td>NaN</td>\n",
       "      <td>NaN</td>\n",
       "      <td>NaN</td>\n",
       "      <td>NaN</td>\n",
       "      <td>NaN</td>\n",
       "      <td>NaN</td>\n",
       "      <td>NaN</td>\n",
       "      <td>NaN</td>\n",
       "      <td>NaN</td>\n",
       "      <td>NaN</td>\n",
       "    </tr>\n",
       "    <tr>\n",
       "      <th>alpha_1e+05</th>\n",
       "      <td>NaN</td>\n",
       "      <td>NaN</td>\n",
       "      <td>NaN</td>\n",
       "      <td>NaN</td>\n",
       "      <td>NaN</td>\n",
       "      <td>NaN</td>\n",
       "      <td>NaN</td>\n",
       "      <td>NaN</td>\n",
       "      <td>NaN</td>\n",
       "      <td>NaN</td>\n",
       "      <td>NaN</td>\n",
       "      <td>NaN</td>\n",
       "      <td>NaN</td>\n",
       "    </tr>\n",
       "    <tr>\n",
       "      <th>alpha_2e+05</th>\n",
       "      <td>NaN</td>\n",
       "      <td>NaN</td>\n",
       "      <td>NaN</td>\n",
       "      <td>NaN</td>\n",
       "      <td>NaN</td>\n",
       "      <td>NaN</td>\n",
       "      <td>NaN</td>\n",
       "      <td>NaN</td>\n",
       "      <td>NaN</td>\n",
       "      <td>NaN</td>\n",
       "      <td>NaN</td>\n",
       "      <td>NaN</td>\n",
       "      <td>NaN</td>\n",
       "    </tr>\n",
       "  </tbody>\n",
       "</table>\n",
       "</div>"
      ],
      "text/plain": [
       "               rss intercept coef_x_1 coef_x_2 coef_x_3 coef_x_4 coef_x_5  \\\n",
       "alpha_1        NaN       NaN      NaN      NaN      NaN      NaN      NaN   \n",
       "alpha_10       NaN       NaN      NaN      NaN      NaN      NaN      NaN   \n",
       "alpha_50       NaN       NaN      NaN      NaN      NaN      NaN      NaN   \n",
       "alpha_5e+02    NaN       NaN      NaN      NaN      NaN      NaN      NaN   \n",
       "alpha_5e+03    NaN       NaN      NaN      NaN      NaN      NaN      NaN   \n",
       "alpha_1.5e+04  NaN       NaN      NaN      NaN      NaN      NaN      NaN   \n",
       "alpha_5e+04    NaN       NaN      NaN      NaN      NaN      NaN      NaN   \n",
       "alpha_1e+05    NaN       NaN      NaN      NaN      NaN      NaN      NaN   \n",
       "alpha_2e+05    NaN       NaN      NaN      NaN      NaN      NaN      NaN   \n",
       "\n",
       "              coef_x_6 coef_x_7 coef_x_8 coef_x_9 coef_x_10 coef_x_11  \n",
       "alpha_1            NaN      NaN      NaN      NaN       NaN       NaN  \n",
       "alpha_10           NaN      NaN      NaN      NaN       NaN       NaN  \n",
       "alpha_50           NaN      NaN      NaN      NaN       NaN       NaN  \n",
       "alpha_5e+02        NaN      NaN      NaN      NaN       NaN       NaN  \n",
       "alpha_5e+03        NaN      NaN      NaN      NaN       NaN       NaN  \n",
       "alpha_1.5e+04      NaN      NaN      NaN      NaN       NaN       NaN  \n",
       "alpha_5e+04        NaN      NaN      NaN      NaN       NaN       NaN  \n",
       "alpha_1e+05        NaN      NaN      NaN      NaN       NaN       NaN  \n",
       "alpha_2e+05        NaN      NaN      NaN      NaN       NaN       NaN  "
      ]
     },
     "execution_count": 153,
     "metadata": {},
     "output_type": "execute_result"
    }
   ],
   "source": [
    "coef_matrix_lasso"
   ]
  },
  {
   "cell_type": "code",
   "execution_count": null,
   "metadata": {},
   "outputs": [],
   "source": []
  },
  {
   "cell_type": "markdown",
   "metadata": {},
   "source": [
    "## Logistic Regression"
   ]
  },
  {
   "cell_type": "code",
   "execution_count": 461,
   "metadata": {},
   "outputs": [
    {
     "data": {
      "text/plain": [
       "array([[0.04210526, 0.        , 0.        , ..., 0.00675676, 0.01052632,\n",
       "        0.08688784],\n",
       "       [0.00157894, 1.        , 0.        , ..., 0.        , 0.        ,\n",
       "        0.        ],\n",
       "       [0.06578947, 0.        , 0.        , ..., 0.0777027 , 0.05263158,\n",
       "        0.00631912],\n",
       "       ...,\n",
       "       [0.06315789, 0.        , 0.        , ..., 0.56756757, 0.43684211,\n",
       "        0.00473934],\n",
       "       [0.0368421 , 0.        , 0.        , ..., 0.26351351, 0.27894737,\n",
       "        0.12796209],\n",
       "       [0.04710526, 1.        , 0.        , ..., 0.03716216, 0.01578947,\n",
       "        0.09478673]])"
      ]
     },
     "execution_count": 461,
     "metadata": {},
     "output_type": "execute_result"
    }
   ],
   "source": [
    "scaledfeatures"
   ]
  },
  {
   "cell_type": "code",
   "execution_count": 462,
   "metadata": {},
   "outputs": [],
   "source": [
    "logisticTarget = trainData['success'].values\n",
    "logisticTargetTest = testData['success'].values"
   ]
  },
  {
   "cell_type": "code",
   "execution_count": 463,
   "metadata": {},
   "outputs": [
    {
     "data": {
      "text/plain": [
       "(4773, 11)"
      ]
     },
     "execution_count": 463,
     "metadata": {},
     "output_type": "execute_result"
    }
   ],
   "source": [
    "scaledfeatures.shape"
   ]
  },
  {
   "cell_type": "code",
   "execution_count": 464,
   "metadata": {},
   "outputs": [
    {
     "data": {
      "text/plain": [
       "array([1, 0, 0, ..., 1, 0, 0])"
      ]
     },
     "execution_count": 464,
     "metadata": {},
     "output_type": "execute_result"
    }
   ],
   "source": [
    "logisticTarget"
   ]
  },
  {
   "cell_type": "code",
   "execution_count": 465,
   "metadata": {},
   "outputs": [
    {
     "ename": "ValueError",
     "evalue": "Parameter values for parameter (kernel) need to be a sequence(but not a string) or np.ndarray.",
     "output_type": "error",
     "traceback": [
      "\u001b[0;31m---------------------------------------------------------------------------\u001b[0m",
      "\u001b[0;31mValueError\u001b[0m                                Traceback (most recent call last)",
      "\u001b[0;32m<ipython-input-465-ec979faf368e>\u001b[0m in \u001b[0;36m<module>\u001b[0;34m()\u001b[0m\n\u001b[1;32m      1\u001b[0m \u001b[0mparameters\u001b[0m \u001b[0;34m=\u001b[0m \u001b[0;34m{\u001b[0m\u001b[0;34m'kernel'\u001b[0m\u001b[0;34m:\u001b[0m\u001b[0;34m(\u001b[0m\u001b[0;34m'logistic'\u001b[0m\u001b[0;34m)\u001b[0m\u001b[0;34m,\u001b[0m \u001b[0;34m'C'\u001b[0m\u001b[0;34m:\u001b[0m\u001b[0;34m[\u001b[0m\u001b[0;36m1\u001b[0m\u001b[0;34m,\u001b[0m\u001b[0;36m3\u001b[0m\u001b[0;34m,\u001b[0m\u001b[0;36m5\u001b[0m\u001b[0;34m,\u001b[0m\u001b[0;36m8\u001b[0m\u001b[0;34m,\u001b[0m\u001b[0;36m10\u001b[0m\u001b[0;34m]\u001b[0m\u001b[0;34m}\u001b[0m\u001b[0;34m\u001b[0m\u001b[0m\n\u001b[1;32m      2\u001b[0m \u001b[0msvc\u001b[0m \u001b[0;34m=\u001b[0m \u001b[0msvm\u001b[0m\u001b[0;34m.\u001b[0m\u001b[0mSVC\u001b[0m\u001b[0;34m(\u001b[0m\u001b[0mgamma\u001b[0m\u001b[0;34m=\u001b[0m\u001b[0;34m\"scale\"\u001b[0m\u001b[0;34m)\u001b[0m\u001b[0;34m\u001b[0m\u001b[0m\n\u001b[0;32m----> 3\u001b[0;31m \u001b[0mgs\u001b[0m \u001b[0;34m=\u001b[0m \u001b[0mGridSearchCV\u001b[0m\u001b[0;34m(\u001b[0m\u001b[0msvc\u001b[0m\u001b[0;34m,\u001b[0m \u001b[0mparam_grid\u001b[0m \u001b[0;34m=\u001b[0m \u001b[0mparameters\u001b[0m\u001b[0;34m,\u001b[0m \u001b[0mcv\u001b[0m\u001b[0;34m=\u001b[0m\u001b[0;36m5\u001b[0m\u001b[0;34m)\u001b[0m\u001b[0;34m\u001b[0m\u001b[0m\n\u001b[0m\u001b[1;32m      4\u001b[0m \u001b[0mgs\u001b[0m\u001b[0;34m.\u001b[0m\u001b[0mfit\u001b[0m\u001b[0;34m(\u001b[0m\u001b[0mscaledfeatures\u001b[0m\u001b[0;34m,\u001b[0m \u001b[0mlogisticTarget\u001b[0m\u001b[0;34m)\u001b[0m\u001b[0;34m\u001b[0m\u001b[0m\n",
      "\u001b[0;32m~/anaconda3/lib/python3.7/site-packages/sklearn/model_selection/_search.py\u001b[0m in \u001b[0;36m__init__\u001b[0;34m(self, estimator, param_grid, scoring, fit_params, n_jobs, iid, refit, cv, verbose, pre_dispatch, error_score, return_train_score)\u001b[0m\n\u001b[1;32m   1076\u001b[0m             return_train_score=return_train_score)\n\u001b[1;32m   1077\u001b[0m         \u001b[0mself\u001b[0m\u001b[0;34m.\u001b[0m\u001b[0mparam_grid\u001b[0m \u001b[0;34m=\u001b[0m \u001b[0mparam_grid\u001b[0m\u001b[0;34m\u001b[0m\u001b[0m\n\u001b[0;32m-> 1078\u001b[0;31m         \u001b[0m_check_param_grid\u001b[0m\u001b[0;34m(\u001b[0m\u001b[0mparam_grid\u001b[0m\u001b[0;34m)\u001b[0m\u001b[0;34m\u001b[0m\u001b[0m\n\u001b[0m\u001b[1;32m   1079\u001b[0m \u001b[0;34m\u001b[0m\u001b[0m\n\u001b[1;32m   1080\u001b[0m     \u001b[0;32mdef\u001b[0m \u001b[0m_get_param_iterator\u001b[0m\u001b[0;34m(\u001b[0m\u001b[0mself\u001b[0m\u001b[0;34m)\u001b[0m\u001b[0;34m:\u001b[0m\u001b[0;34m\u001b[0m\u001b[0m\n",
      "\u001b[0;32m~/anaconda3/lib/python3.7/site-packages/sklearn/model_selection/_search.py\u001b[0m in \u001b[0;36m_check_param_grid\u001b[0;34m(param_grid)\u001b[0m\n\u001b[1;32m    355\u001b[0m                 raise ValueError(\"Parameter values for parameter ({0}) need \"\n\u001b[1;32m    356\u001b[0m                                  \u001b[0;34m\"to be a sequence(but not a string) or\"\u001b[0m\u001b[0;34m\u001b[0m\u001b[0m\n\u001b[0;32m--> 357\u001b[0;31m                                  \" np.ndarray.\".format(name))\n\u001b[0m\u001b[1;32m    358\u001b[0m \u001b[0;34m\u001b[0m\u001b[0m\n\u001b[1;32m    359\u001b[0m             \u001b[0;32mif\u001b[0m \u001b[0mlen\u001b[0m\u001b[0;34m(\u001b[0m\u001b[0mv\u001b[0m\u001b[0;34m)\u001b[0m \u001b[0;34m==\u001b[0m \u001b[0;36m0\u001b[0m\u001b[0;34m:\u001b[0m\u001b[0;34m\u001b[0m\u001b[0m\n",
      "\u001b[0;31mValueError\u001b[0m: Parameter values for parameter (kernel) need to be a sequence(but not a string) or np.ndarray."
     ]
    }
   ],
   "source": [
    "parameters = {'kernel':('logistic'), 'C':[1,3,5,8,10]}\n",
    "svc = svm.SVC(gamma=\"scale\")\n",
    "gs = GridSearchCV(svc, param_grid = parameters, cv=5)\n",
    "gs.fit(scaledfeatures, logisticTarget)"
   ]
  },
  {
   "cell_type": "markdown",
   "metadata": {},
   "source": [
    "# RSMEs for Linear, Lasso, Ridge, and Logistic:"
   ]
  },
  {
   "cell_type": "code",
   "execution_count": 466,
   "metadata": {},
   "outputs": [],
   "source": [
    "import numpy as np\n",
    "from sklearn import linear_model, datasets\n",
    "from sklearn.model_selection import GridSearchCV\n",
    "\n"
   ]
  },
  {
   "cell_type": "code",
   "execution_count": 467,
   "metadata": {},
   "outputs": [],
   "source": [
    "# Create regularization penalty space\n",
    "penalty = ['l1', 'l2']\n",
    "\n",
    "# Create regularization hyperparameter space\n",
    "C = np.logspace(1,10)\n",
    "\n",
    "# Create hyperparameter options\n",
    "hyperparameters = dict(C=C, penalty=penalty)"
   ]
  },
  {
   "cell_type": "code",
   "execution_count": 468,
   "metadata": {},
   "outputs": [],
   "source": [
    "# Create grid search using 5-fold cross validation\n",
    "clf = GridSearchCV(logistic, hyperparameters, cv=5, verbose=0)"
   ]
  },
  {
   "cell_type": "code",
   "execution_count": 469,
   "metadata": {},
   "outputs": [],
   "source": [
    "# Fit grid search\n",
    "best_model = clf.fit(scaledfeatures, logisticTarget)"
   ]
  },
  {
   "cell_type": "code",
   "execution_count": 470,
   "metadata": {},
   "outputs": [
    {
     "name": "stdout",
     "output_type": "stream",
     "text": [
      "Best Penalty: l1\n",
      "Best C: 126.48552168552958\n"
     ]
    }
   ],
   "source": [
    "# View best hyperparameters\n",
    "print('Best Penalty:', best_model.best_estimator_.get_params()['penalty'])\n",
    "print('Best C:', best_model.best_estimator_.get_params()['C'])\n"
   ]
  },
  {
   "cell_type": "markdown",
   "metadata": {},
   "source": [
    "#  Linear Regression RSME: "
   ]
  },
  {
   "cell_type": "code",
   "execution_count": 172,
   "metadata": {},
   "outputs": [
    {
     "ename": "NameError",
     "evalue": "name 'best_model' is not defined",
     "output_type": "error",
     "traceback": [
      "\u001b[0;31m---------------------------------------------------------------------------\u001b[0m",
      "\u001b[0;31mNameError\u001b[0m                                 Traceback (most recent call last)",
      "\u001b[0;32m<ipython-input-172-1cb1cc963915>\u001b[0m in \u001b[0;36m<module>\u001b[0;34m()\u001b[0m\n\u001b[1;32m      2\u001b[0m \u001b[0;31m# Predict on test features. Get RMSE against test target\u001b[0m\u001b[0;34m\u001b[0m\u001b[0;34m\u001b[0m\u001b[0m\n\u001b[1;32m      3\u001b[0m \u001b[0;34m\u001b[0m\u001b[0m\n\u001b[0;32m----> 4\u001b[0;31m \u001b[0mtrainPredictions\u001b[0m \u001b[0;34m=\u001b[0m \u001b[0mbest_model\u001b[0m\u001b[0;34m.\u001b[0m\u001b[0mpredict\u001b[0m\u001b[0;34m(\u001b[0m\u001b[0mscaledfeatures\u001b[0m\u001b[0;34m)\u001b[0m\u001b[0;34m\u001b[0m\u001b[0m\n\u001b[0m\u001b[1;32m      5\u001b[0m \u001b[0mtestPredictions\u001b[0m \u001b[0;34m=\u001b[0m \u001b[0mbest_model\u001b[0m\u001b[0;34m.\u001b[0m\u001b[0mpredict\u001b[0m\u001b[0;34m(\u001b[0m\u001b[0mscaledtestfeatures\u001b[0m\u001b[0;34m)\u001b[0m\u001b[0;34m\u001b[0m\u001b[0m\n\u001b[1;32m      6\u001b[0m \u001b[0;34m\u001b[0m\u001b[0m\n",
      "\u001b[0;31mNameError\u001b[0m: name 'best_model' is not defined"
     ]
    }
   ],
   "source": [
    "# Predict on train features. Get RMSE against train target\n",
    "# Predict on test features. Get RMSE against test target\n",
    "\n",
    "trainPredictions = best_model.predict(scaledfeatures)\n",
    "testPredictions = best_model.predict(scaledtestfeatures)\n",
    "\n",
    "trainRmse = mean_squared_error(logisticTarget , trainPredictions)\n",
    "testRmse = mean_squared_error(logisticTargetTest , testPredictions)\n",
    "\n",
    "# rmseTest = mean_squared_error(scaledtestfeatures, testPredictions)\n",
    "# rmseTrain = mean_squared_error(scaledfeatures, trainPredictions)\n",
    "\n",
    "\n",
    "print(trainRmse)\n",
    "print(testRmse)"
   ]
  },
  {
   "cell_type": "code",
   "execution_count": null,
   "metadata": {},
   "outputs": [],
   "source": []
  },
  {
   "cell_type": "code",
   "execution_count": null,
   "metadata": {},
   "outputs": [],
   "source": []
  },
  {
   "cell_type": "markdown",
   "metadata": {},
   "source": []
  },
  {
   "cell_type": "code",
   "execution_count": 399,
   "metadata": {
    "scrolled": true
   },
   "outputs": [],
   "source": [
    "# logReg = LogisticRegression(fit_intercept=False, random_state=0)\n",
    "# logReg = logReg.fit(scaledfeatures, logisticTarget)\n",
    "\n",
    "# print(logReg.score(scaledfeatures, logisticTarget))\n",
    "\n",
    "# logRegWTuning = LogisticRegression(fit_intercept=False, random_state=0,penalty='l1',C = 316.227)\n",
    "# logRegWTuning = logReg.fit(scaledfeatures, logisticTarget)\n",
    "\n",
    "# print(logRegWTuning.score(scaledfeatures, logisticTarget))"
   ]
  },
  {
   "cell_type": "code",
   "execution_count": 400,
   "metadata": {},
   "outputs": [],
   "source": [
    "# predictions = logReg.predict(scaledtestfeatures)"
   ]
  },
  {
   "cell_type": "code",
   "execution_count": 318,
   "metadata": {},
   "outputs": [
    {
     "data": {
      "text/plain": [
       "(2046,)"
      ]
     },
     "execution_count": 318,
     "metadata": {},
     "output_type": "execute_result"
    }
   ],
   "source": [
    "# predictions.shape"
   ]
  },
  {
   "cell_type": "code",
   "execution_count": 398,
   "metadata": {},
   "outputs": [
    {
     "data": {
      "text/plain": [
       "0.6626859417557092"
      ]
     },
     "execution_count": 398,
     "metadata": {},
     "output_type": "execute_result"
    }
   ],
   "source": [
    "## New score with Tuning (logisticTarget): \n",
    "logRegWTuning.score(scaledfeatures, logisticTarget)\n",
    "\n",
    "scaled"
   ]
  },
  {
   "cell_type": "code",
   "execution_count": 320,
   "metadata": {},
   "outputs": [
    {
     "data": {
      "text/plain": [
       "0.6617790811339198"
      ]
     },
     "execution_count": 320,
     "metadata": {},
     "output_type": "execute_result"
    }
   ],
   "source": [
    "## New score with Tuning (logisticTargetTest): \n",
    "logRegWTuning.score(scaledtestfeatures, logisticTargetTest)"
   ]
  },
  {
   "cell_type": "code",
   "execution_count": 306,
   "metadata": {},
   "outputs": [
    {
     "data": {
      "text/plain": [
       "0.6626859417557092"
      ]
     },
     "execution_count": 306,
     "metadata": {},
     "output_type": "execute_result"
    }
   ],
   "source": [
    "## Old Score without HyperParameter Tuning\n",
    "# When training rmse = test rmse, did not overfit\n",
    "logReg.score(scaledfeatures, logisticTarget)"
   ]
  },
  {
   "cell_type": "code",
   "execution_count": 415,
   "metadata": {},
   "outputs": [
    {
     "ename": "TypeError",
     "evalue": "'numpy.float64' object is not callable",
     "output_type": "error",
     "traceback": [
      "\u001b[0;31m---------------------------------------------------------------------------\u001b[0m",
      "\u001b[0;31mTypeError\u001b[0m                                 Traceback (most recent call last)",
      "\u001b[0;32m<ipython-input-415-886f4e7ba540>\u001b[0m in \u001b[0;36m<module>\u001b[0;34m()\u001b[0m\n\u001b[1;32m      4\u001b[0m \u001b[0;34m\u001b[0m\u001b[0m\n\u001b[1;32m      5\u001b[0m \u001b[0;34m\u001b[0m\u001b[0m\n\u001b[0;32m----> 6\u001b[0;31m \u001b[0mrmse\u001b[0m \u001b[0;34m=\u001b[0m \u001b[0mrmse\u001b[0m\u001b[0;34m(\u001b[0m\u001b[0mscaledTestTarget\u001b[0m\u001b[0;34m,\u001b[0m \u001b[0mpredictions\u001b[0m\u001b[0;34m)\u001b[0m\u001b[0;34m\u001b[0m\u001b[0m\n\u001b[0m",
      "\u001b[0;31mTypeError\u001b[0m: 'numpy.float64' object is not callable"
     ]
    }
   ],
   "source": [
    "logReg.score(scaledtestfeatures, logisticTargetTest)\n",
    "\n",
    "# rmse = mean_squared_error(scaledTestTarget, predictions)\n",
    "\n",
    "\n",
    "rmse = rmse(scaledTestTarget, predictions)"
   ]
  },
  {
   "cell_type": "code",
   "execution_count": null,
   "metadata": {},
   "outputs": [],
   "source": []
  },
  {
   "cell_type": "markdown",
   "metadata": {},
   "source": []
  },
  {
   "cell_type": "code",
   "execution_count": null,
   "metadata": {},
   "outputs": [],
   "source": [
    "\n",
    "\n",
    "\n",
    "\n",
    "\n"
   ]
  },
  {
   "cell_type": "code",
   "execution_count": null,
   "metadata": {},
   "outputs": [],
   "source": []
  },
  {
   "cell_type": "markdown",
   "metadata": {},
   "source": [
    "## KNN"
   ]
  },
  {
   "cell_type": "code",
   "execution_count": null,
   "metadata": {},
   "outputs": [],
   "source": []
  },
  {
   "cell_type": "code",
   "execution_count": 28,
   "metadata": {},
   "outputs": [],
   "source": [
    "trainTarget = trainData['success'].values\n",
    "testTarget = testData['success'].values"
   ]
  },
  {
   "cell_type": "code",
   "execution_count": 40,
   "metadata": {},
   "outputs": [],
   "source": [
    "col = ['KNN Parameter', 'accuracy']\n",
    "ind = [i for i in range(0,8)]\n",
    "knnResult = pd.DataFrame(index=ind, columns = col)"
   ]
  },
  {
   "cell_type": "code",
   "execution_count": 41,
   "metadata": {},
   "outputs": [],
   "source": [
    "knnParameter = [1, 2, 3, 4, 5, 6, 7, 8]"
   ]
  },
  {
   "cell_type": "code",
   "execution_count": 42,
   "metadata": {},
   "outputs": [],
   "source": [
    "for i in range(0, len(knnParameter)):\n",
    "    knnModel = KNeighborsClassifier(n_neighbors = knnParameter[i])\n",
    "    knnModel.fit(features, trainTarget)\n",
    "    predictions = knnModel.predict(featuresTest)\n",
    "    acc = accuracy_score(testTarget, predictions)\n",
    "    rtrn = [knnParameter[i], acc]\n",
    "    knnResult.iloc[i,] = rtrn"
   ]
  },
  {
   "cell_type": "code",
   "execution_count": 43,
   "metadata": {},
   "outputs": [
    {
     "data": {
      "text/html": [
       "<div>\n",
       "<style scoped>\n",
       "    .dataframe tbody tr th:only-of-type {\n",
       "        vertical-align: middle;\n",
       "    }\n",
       "\n",
       "    .dataframe tbody tr th {\n",
       "        vertical-align: top;\n",
       "    }\n",
       "\n",
       "    .dataframe thead th {\n",
       "        text-align: right;\n",
       "    }\n",
       "</style>\n",
       "<table border=\"1\" class=\"dataframe\">\n",
       "  <thead>\n",
       "    <tr style=\"text-align: right;\">\n",
       "      <th></th>\n",
       "      <th>KNN Parameter</th>\n",
       "      <th>accuracy</th>\n",
       "    </tr>\n",
       "  </thead>\n",
       "  <tbody>\n",
       "    <tr>\n",
       "      <th>0</th>\n",
       "      <td>1</td>\n",
       "      <td>0.59433</td>\n",
       "    </tr>\n",
       "    <tr>\n",
       "      <th>1</th>\n",
       "      <td>2</td>\n",
       "      <td>0.521505</td>\n",
       "    </tr>\n",
       "    <tr>\n",
       "      <th>2</th>\n",
       "      <td>3</td>\n",
       "      <td>0.599707</td>\n",
       "    </tr>\n",
       "    <tr>\n",
       "      <th>3</th>\n",
       "      <td>4</td>\n",
       "      <td>0.569404</td>\n",
       "    </tr>\n",
       "    <tr>\n",
       "      <th>4</th>\n",
       "      <td>5</td>\n",
       "      <td>0.621212</td>\n",
       "    </tr>\n",
       "    <tr>\n",
       "      <th>5</th>\n",
       "      <td>6</td>\n",
       "      <td>0.585533</td>\n",
       "    </tr>\n",
       "    <tr>\n",
       "      <th>6</th>\n",
       "      <td>7</td>\n",
       "      <td>0.611437</td>\n",
       "    </tr>\n",
       "    <tr>\n",
       "      <th>7</th>\n",
       "      <td>8</td>\n",
       "      <td>0.594819</td>\n",
       "    </tr>\n",
       "  </tbody>\n",
       "</table>\n",
       "</div>"
      ],
      "text/plain": [
       "  KNN Parameter  accuracy\n",
       "0             1   0.59433\n",
       "1             2  0.521505\n",
       "2             3  0.599707\n",
       "3             4  0.569404\n",
       "4             5  0.621212\n",
       "5             6  0.585533\n",
       "6             7  0.611437\n",
       "7             8  0.594819"
      ]
     },
     "execution_count": 43,
     "metadata": {},
     "output_type": "execute_result"
    }
   ],
   "source": [
    "knnResult"
   ]
  },
  {
   "cell_type": "code",
   "execution_count": 44,
   "metadata": {},
   "outputs": [],
   "source": [
    "## Code for regressor"
   ]
  },
  {
   "cell_type": "code",
   "execution_count": 63,
   "metadata": {},
   "outputs": [],
   "source": [
    "for i in range(0,len(knnParameter)):\n",
    "    knnModel = KNeighborsRegressor(n_neighbors=knnParameter[i])\n",
    "    knnModel.fit(features,trainTarget)\n",
    "    predictions = knnModel.predict(featuresTest)\n",
    "    rss = sum((predictions-testTarget)**2)\n",
    "    rtrn = [knnParameter[i], rss]\n",
    "    knnResult.iloc[i,] = rtrn"
   ]
  },
  {
   "cell_type": "code",
   "execution_count": 64,
   "metadata": {},
   "outputs": [
    {
     "data": {
      "text/html": [
       "<div>\n",
       "<style scoped>\n",
       "    .dataframe tbody tr th:only-of-type {\n",
       "        vertical-align: middle;\n",
       "    }\n",
       "\n",
       "    .dataframe tbody tr th {\n",
       "        vertical-align: top;\n",
       "    }\n",
       "\n",
       "    .dataframe thead th {\n",
       "        text-align: right;\n",
       "    }\n",
       "</style>\n",
       "<table border=\"1\" class=\"dataframe\">\n",
       "  <thead>\n",
       "    <tr style=\"text-align: right;\">\n",
       "      <th></th>\n",
       "      <th>KNN Parameter</th>\n",
       "      <th>rss</th>\n",
       "    </tr>\n",
       "  </thead>\n",
       "  <tbody>\n",
       "    <tr>\n",
       "      <th>0</th>\n",
       "      <td>1</td>\n",
       "      <td>3.52548e+19</td>\n",
       "    </tr>\n",
       "    <tr>\n",
       "      <th>1</th>\n",
       "      <td>2</td>\n",
       "      <td>3.0569e+19</td>\n",
       "    </tr>\n",
       "    <tr>\n",
       "      <th>2</th>\n",
       "      <td>3</td>\n",
       "      <td>2.71667e+19</td>\n",
       "    </tr>\n",
       "    <tr>\n",
       "      <th>3</th>\n",
       "      <td>4</td>\n",
       "      <td>2.46886e+19</td>\n",
       "    </tr>\n",
       "    <tr>\n",
       "      <th>4</th>\n",
       "      <td>5</td>\n",
       "      <td>2.3316e+19</td>\n",
       "    </tr>\n",
       "    <tr>\n",
       "      <th>5</th>\n",
       "      <td>6</td>\n",
       "      <td>2.34615e+19</td>\n",
       "    </tr>\n",
       "    <tr>\n",
       "      <th>6</th>\n",
       "      <td>7</td>\n",
       "      <td>2.33137e+19</td>\n",
       "    </tr>\n",
       "    <tr>\n",
       "      <th>7</th>\n",
       "      <td>8</td>\n",
       "      <td>2.32762e+19</td>\n",
       "    </tr>\n",
       "  </tbody>\n",
       "</table>\n",
       "</div>"
      ],
      "text/plain": [
       "  KNN Parameter          rss\n",
       "0             1  3.52548e+19\n",
       "1             2   3.0569e+19\n",
       "2             3  2.71667e+19\n",
       "3             4  2.46886e+19\n",
       "4             5   2.3316e+19\n",
       "5             6  2.34615e+19\n",
       "6             7  2.33137e+19\n",
       "7             8  2.32762e+19"
      ]
     },
     "execution_count": 64,
     "metadata": {},
     "output_type": "execute_result"
    }
   ],
   "source": [
    "knnResult"
   ]
  },
  {
   "cell_type": "code",
   "execution_count": null,
   "metadata": {},
   "outputs": [],
   "source": []
  },
  {
   "cell_type": "code",
   "execution_count": null,
   "metadata": {},
   "outputs": [],
   "source": []
  },
  {
   "cell_type": "code",
   "execution_count": null,
   "metadata": {},
   "outputs": [],
   "source": []
  },
  {
   "cell_type": "code",
   "execution_count": null,
   "metadata": {},
   "outputs": [],
   "source": []
  }
 ],
 "metadata": {
  "kernelspec": {
   "display_name": "Python (data science)",
   "language": "python",
   "name": "myenv"
  },
  "language_info": {
   "codemirror_mode": {
    "name": "ipython",
    "version": 3
   },
   "file_extension": ".py",
   "mimetype": "text/x-python",
   "name": "python",
   "nbconvert_exporter": "python",
   "pygments_lexer": "ipython3",
   "version": "3.7.0"
  }
 },
 "nbformat": 4,
 "nbformat_minor": 2
}

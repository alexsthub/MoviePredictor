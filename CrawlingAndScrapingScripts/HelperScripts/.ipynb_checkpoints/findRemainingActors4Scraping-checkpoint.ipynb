{
 "cells": [
  {
   "cell_type": "code",
   "execution_count": 26,
   "metadata": {},
   "outputs": [
    {
     "name": "stdout",
     "output_type": "stream",
     "text": [
      "                    actors\n",
      "0                      NaN\n",
      "1               Ami Ayalon\n",
      "2        Valeriya Lanskaya\n",
      "3            Andrew Divoff\n",
      "4                Mike Maas\n",
      "5               Raúl Juliá\n",
      "6           Billy Connolly\n",
      "7           Campbell Scott\n",
      "8                  Ja Rule\n",
      "9             Pierre Niney\n",
      "10            Shari Albert\n",
      "11            Michael Pitt\n",
      "12              Sonny Bono\n",
      "13            Martin Speer\n",
      "14           Virginia Mayo\n",
      "15             Adam Rayner\n",
      "16             Luke Wilson\n",
      "17     Neil Patrick Harris\n",
      "18              Lon Chaney\n",
      "19           Ralph Fiennes\n",
      "20          Mannara Chopra\n",
      "21         Jocelin Donahue\n",
      "22               Rob Brown\n",
      "23            Orson Welles\n",
      "24        Kim Rossi Stuart\n",
      "25              Luc Picard\n",
      "26            Steven Bauer\n",
      "27         Shane McDermott\n",
      "28          Frank Langella\n",
      "29           Colin Farrell\n",
      "...                    ...\n",
      "3017             Jon Finch\n",
      "3018         Rupert Graves\n",
      "3019         Richard Pryor\n",
      "3020            Clive Owen\n",
      "3021                 N!xau\n",
      "3022          Greer Garson\n",
      "3023           Salman Khan\n",
      "3024          Eric Balfour\n",
      "3025         Amanda Schull\n",
      "3026     Kseniya Rappoport\n",
      "3027         Jeff Goldblum\n",
      "3028   Alexandre Rodrigues\n",
      "3029              Eli Roth\n",
      "3030       Anthony Perkins\n",
      "3031          Marcell Nagy\n",
      "3032             Ken Ogata\n",
      "3033          Barry Pepper\n",
      "3034           Kathy Bates\n",
      "3035     Brian Keith Allen\n",
      "3036            Ari Folman\n",
      "3037       Charlie Trairat\n",
      "3038           Dana Carvey\n",
      "3039           Akira Terao\n",
      "3040         Kate Bosworth\n",
      "3041         Elena Lyadova\n",
      "3042  Dakota Blue Richards\n",
      "3043        Alex Karpovsky\n",
      "3044       Graciela Borges\n",
      "3045          Kofi Ghanaba\n",
      "3046          Elle Fanning\n",
      "\n",
      "[3047 rows x 1 columns]\n"
     ]
    }
   ],
   "source": [
    "import pandas\n",
    "\n",
    "the3000WorkingWith = pandas.read_csv(\"./uniqueActorsFirst3000.csv\")\n",
    "originalScrapePart1 = pandas.read_csv(\"./actorsINFO_1.csv\")\n",
    "\n",
    "remaining = []\n"
   ]
  },
  {
   "cell_type": "code",
   "execution_count": 27,
   "metadata": {},
   "outputs": [
    {
     "name": "stdout",
     "output_type": "stream",
     "text": [
      "2331\n",
      "716\n",
      "3047\n"
     ]
    }
   ],
   "source": [
    "# print((originalScrapePart1.columns[0]))\n",
    "\n",
    "# actors we already scraped:\n",
    "actorsWehave = originalScrapePart1['actorName'].tolist()\n",
    "# actorsWehave[1]\n",
    "\n",
    "# actors we want to work with, for the \"statistical analysis\" trial:\n",
    "targetedActors = the3000WorkingWith['actors'].tolist()\n",
    "\n",
    "# saved arrays for actors we need to scrape and actors we have scraped. \n",
    "actsNeedToScrape = []\n",
    "actsNotNeededToScrape = []\n",
    "\n",
    "# for each actor we already scraped, add to new list (actorsRemaining)\n",
    "for actor in targetedActors:        \n",
    "    if actor not in actorsWehave:\n",
    "        actsNeedToScrape.append(actor)\n",
    "    else:\n",
    "        actsNotNeededToScrape.append(actor)\n",
    "        \n",
    "\n",
    "  \n",
    "\n",
    "print(len(actsNeedToScrape))\n",
    "print(len(actsNotNeededToScrape))\n",
    "      \n",
    "print(len(the3000WorkingWith))\n",
    "\n",
    "\n",
    "actsNeedToScrape = pandas.DataFrame(actsNeedToScrape)\n",
    "actsNeedToScrape.to_csv('./uniqueActorsLeft2.csv')\n",
    "      \n",
    "actsNeedToScrape.to_csv('./uniqueActorsLeft2.csv')\n"
   ]
  },
  {
   "cell_type": "code",
   "execution_count": null,
   "metadata": {},
   "outputs": [],
   "source": []
  },
  {
   "cell_type": "code",
   "execution_count": null,
   "metadata": {},
   "outputs": [],
   "source": []
  }
 ],
 "metadata": {
  "kernelspec": {
   "display_name": "Python (data science)",
   "language": "python",
   "name": "myenv"
  },
  "language_info": {
   "codemirror_mode": {
    "name": "ipython",
    "version": 3
   },
   "file_extension": ".py",
   "mimetype": "text/x-python",
   "name": "python",
   "nbconvert_exporter": "python",
   "pygments_lexer": "ipython3",
   "version": "3.7.0"
  }
 },
 "nbformat": 4,
 "nbformat_minor": 2
}

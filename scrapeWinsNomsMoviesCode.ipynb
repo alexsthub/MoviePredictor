{
 "cells": [
  {
   "cell_type": "code",
   "execution_count": 16,
   "metadata": {},
   "outputs": [],
   "source": [
    "from bs4 import BeautifulSoup\n",
    "import requests\n",
    "import re"
   ]
  },
  {
   "cell_type": "code",
   "execution_count": 17,
   "metadata": {},
   "outputs": [
    {
     "name": "stdout",
     "output_type": "stream",
     "text": [
      "<Response [200]>\n"
     ]
    }
   ],
   "source": [
    "html_doc = requests.get(\"https://www.imdb.com/name/nm0000158/?ref_=fn_al_nm_1\")\n",
    "print(html_doc)"
   ]
  },
  {
   "cell_type": "code",
   "execution_count": 18,
   "metadata": {},
   "outputs": [],
   "source": [
    "soup = BeautifulSoup(html_doc.text, 'html.parser')"
   ]
  },
  {
   "cell_type": "code",
   "execution_count": 19,
   "metadata": {},
   "outputs": [],
   "source": [
    "awards = soup.findAll(\"span\", {\"class\": \"awards-blurb\"})\n",
    "rawWinsAndNoms = awards[1].text\n",
    "# winsAndNoms = re.findall('\\s\\d+\\s', rawWinsAndNoms)\n",
    "winsAndNoms = re.findall('\\d+', rawWinsAndNoms)\n",
    "\n",
    "numWins = int(winsAndNoms[0])\n",
    "numNoms = int(winsAndNoms[1])"
   ]
  },
  {
   "cell_type": "code",
   "execution_count": 20,
   "metadata": {},
   "outputs": [],
   "source": [
    "numCreds = soup.find(\"div\", {\"id\": \"filmo-head-actor\"})\n",
    "rawNumOfMovies = numCreds.text\n",
    "rawNumOfMovies = re.findall('\\d+', rawNumOfMovies)\n",
    "numMovies = int(rawNumOfMovies[0])\n"
   ]
  },
  {
   "cell_type": "code",
   "execution_count": 21,
   "metadata": {},
   "outputs": [
    {
     "name": "stdout",
     "output_type": "stream",
     "text": [
      "[82, 150, 87]\n"
     ]
    }
   ],
   "source": [
    "# List of the Rating Values (in order; number of wins, num of nominations, and num of movies):\n",
    "actorValues = [numWins, numNoms, numMovies]\n",
    "print(actorValues)"
   ]
  }
 ],
 "metadata": {
  "kernelspec": {
   "display_name": "Python 3",
   "language": "python",
   "name": "python3"
  },
  "language_info": {
   "codemirror_mode": {
    "name": "ipython",
    "version": 3
   },
   "file_extension": ".py",
   "mimetype": "text/x-python",
   "name": "python",
   "nbconvert_exporter": "python",
   "pygments_lexer": "ipython3",
   "version": "3.6.6"
  }
 },
 "nbformat": 4,
 "nbformat_minor": 2
}

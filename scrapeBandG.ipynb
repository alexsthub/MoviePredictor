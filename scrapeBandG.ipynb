{
 "cells": [
  {
   "cell_type": "code",
   "execution_count": 3,
   "metadata": {},
   "outputs": [],
   "source": [
    "import requests\n",
    "from bs4 import BeautifulSoup"
   ]
  },
  {
   "cell_type": "code",
   "execution_count": 4,
   "metadata": {},
   "outputs": [],
   "source": [
    "content = requests.get('https://www.the-numbers.com/movie/budgets/all')\n",
    "html_doc = (content.text)\n",
    "soup = BeautifulSoup(html_doc, 'html.parser')"
   ]
  },
  {
   "cell_type": "code",
   "execution_count": 16,
   "metadata": {},
   "outputs": [
    {
     "name": "stdout",
     "output_type": "stream",
     "text": [
      "<td class=\"data\">$2,776,345,279</td>\n"
     ]
    }
   ],
   "source": [
    "# print(soup.prettify())\n",
    "\n",
    "\n",
    "row = soup.find_all('tr')\n",
    "dataOfRow = row[1]\n",
    "\n",
    "tds = dataOfRow.find_all('td')\n",
    "productionBudget = tds[3]\n",
    "gross = tds[5]\n",
    "\n",
    "print(gross)\n",
    "\n",
    "\n",
    "# print(soup.tr[3])"
   ]
  },
  {
   "cell_type": "code",
   "execution_count": null,
   "metadata": {},
   "outputs": [],
   "source": []
  }
 ],
 "metadata": {
  "kernelspec": {
   "display_name": "Python 3",
   "language": "python",
   "name": "python3"
  },
  "language_info": {
   "codemirror_mode": {
    "name": "ipython",
    "version": 3
   },
   "file_extension": ".py",
   "mimetype": "text/x-python",
   "name": "python",
   "nbconvert_exporter": "python",
   "pygments_lexer": "ipython3",
   "version": "3.7.0"
  }
 },
 "nbformat": 4,
 "nbformat_minor": 2
}

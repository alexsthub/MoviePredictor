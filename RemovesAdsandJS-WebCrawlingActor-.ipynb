{
 "cells": [
  {
   "cell_type": "code",
   "execution_count": 21,
   "metadata": {},
   "outputs": [],
   "source": [
    "import selenium\n",
    "from selenium import webdriver\n",
    "from selenium.webdriver.common.keys import Keys\n",
    "from selenium.webdriver.common.by import By\n",
    "\n",
    "from bs4 import BeautifulSoup\n",
    "import requests\n",
    "import re\n",
    "import pandas as pd\n",
    "\n",
    "import random\n",
    "from user_agent import generate_user_agent, generate_navigator"
   ]
  },
  {
   "cell_type": "code",
   "execution_count": 14,
   "metadata": {},
   "outputs": [],
   "source": [
    "actors = [\"Bruce Willis\", \"Tom Cruise\", \"Uma Thurman\", \"Bill Cosby\", \"Bruce Willis\", \"Tom Cruise\", \"Uma Thurman\", \"Bill Cosby\",\"Bruce Willis\", \"Tom Cruise\", \"Uma Thurman\", \"Bill Cosby\", \"Bruce Willis\", \"Tom Cruise\", \"Uma Thurman\", \"Bill Cosby\"]\n",
    "#do mod 20 and print out to keep us updated how far it is through"
   ]
  },
  {
   "cell_type": "code",
   "execution_count": 35,
   "metadata": {},
   "outputs": [
    {
     "name": "stderr",
     "output_type": "stream",
     "text": [
      "/Users/school/Desktop/Fall 2018 UW Classes/Data Sci - Info 370 HW/Labs/theEnv/lib/python3.7/site-packages/ipykernel_launcher.py:11: DeprecationWarning: use options instead of chrome_options\n",
      "  # This is added back by InteractiveShellApp.init_path()\n"
     ]
    }
   ],
   "source": [
    "chrome_path = \"./chromedriver\"\n",
    "\n",
    "options = webdriver.ChromeOptions()\n",
    "options.add_argument('--load-extension=./adblock4Sellenium/3.34.0_0')\n",
    "options.add_experimental_option( \"prefs\",{'profile.managed_default_content_settings.javascript': 2})\n",
    "\n",
    "\n",
    "options.add_argument(\"--user-agent=\" + 'Mozilla/5.0 (Windows NT 10.0; Win64; x64) AppleWebKit/537.36 (KHTML, like Gecko) Chrome/58.0.3029.110 Safari/537.36')\n",
    "\n",
    "\n",
    "driver = webdriver.Chrome(chrome_path, chrome_options=options)\n",
    "\n",
    "# generate_user_agent(os=('mac', 'linux'))\n"
   ]
  },
  {
   "cell_type": "code",
   "execution_count": null,
   "metadata": {},
   "outputs": [],
   "source": [
    "\n"
   ]
  },
  {
   "cell_type": "code",
   "execution_count": null,
   "metadata": {},
   "outputs": [],
   "source": [
    "#creating a dataframe\n",
    "actorDataFrame = []"
   ]
  },
  {
   "cell_type": "code",
   "execution_count": null,
   "metadata": {},
   "outputs": [],
   "source": [
    "#Finds number of movies from soup\n",
    "def findNumMovies(soup):\n",
    "        numCreds = soup.find(\"div\", {\"id\": \"filmo-head-actor\"})\n",
    "        if numCreds is None:\n",
    "             numCreds = soup.find(\"div\", {\"id\": \"filmo-head-actress\"})\n",
    "        rawNumOfMovies = numCreds.text\n",
    "        return rawNumOfMovies"
   ]
  },
  {
   "cell_type": "code",
   "execution_count": null,
   "metadata": {},
   "outputs": [],
   "source": [
    "    \n",
    "    #under: call function to web scrape the page\n",
    "    def scrape(actorName, htmlURL):\n",
    "        #try:\n",
    "            html_doc = requests.get(htmlURL)\n",
    "            soup = BeautifulSoup(html_doc.text, 'html.parser')\n",
    "\n",
    "            awards = soup.findAll(\"span\", {\"class\": \"awards-blurb\"})\n",
    "            rawWinsAndNoms = awards[1].text\n",
    "            # winsAndNoms = re.findall('\\s\\d+\\s', rawWinsAndNoms)\n",
    "            winsAndNoms = re.findall('\\d+', rawWinsAndNoms)\n",
    "\n",
    "            numWins = int(winsAndNoms[0])\n",
    "            numNoms = int(winsAndNoms[1])\n",
    "            rawNumOfMovies = findNumMovies(soup)\n",
    "            \n",
    "            \n",
    "            rawNumOfMovies = re.findall('\\d+', rawNumOfMovies)\n",
    "            numMovies = int(rawNumOfMovies[0])\n",
    "\n",
    "            # List of the Rating Values (in order; number of wins, num of nominations, and num of movies):\n",
    "            actorValues = [numWins, numNoms, numMovies]\n",
    "            actorDataFrame.append({'actorName': actorName, 'actorMovieCount': numMovies,\n",
    "                                                                 'actorAwardNominations': numNoms, 'actorAwardWins': numWins})\n",
    "            \n",
    "        #except:\n",
    "           # print('Error. Skipping to next actor.')\n",
    "\n"
   ]
  },
  {
   "cell_type": "code",
   "execution_count": null,
   "metadata": {},
   "outputs": [],
   "source": [
    "count = len(actors)\n",
    "\n",
    "driver.get('https://www.imdb.com/?ref_=nv_home')\n",
    "for name in actors:\n",
    "    if count % 2 == 0:\n",
    "        print(\"number of actors remaining: %i\" % count)\n",
    "    #going to main page of IMDB\n",
    "    #Find search bar, clear and search for actor\n",
    "    searchBar = driver.find_element_by_id('navbar-query')\n",
    "    searchBar.clear()\n",
    "    searchBar.send_keys(name)\n",
    "    searchBar.send_keys(Keys.RETURN)\n",
    "    assert \"No results found.\" not in driver.page_source\n",
    "    try:\n",
    "        #Taking the top actor from the list of names that show up from the search\n",
    "        personWanted = driver.find_element_by_class_name('findResult')\n",
    "        personURL = personWanted.find_element_by_tag_name('a')\n",
    "        personURL.click()\n",
    "        driver.current_url\n",
    "        scrape(name, driver.current_url)\n",
    "    #except instance when a search of an actor has a non-actor (ex: show) as the top choice\n",
    "    except:\n",
    "        #Reason for doing a whole repeat is because of HTML format where cannot determine if link to click on is actor or not\n",
    "        #Find search bar, clear and search for actor\n",
    "        searchBar = driver.find_element_by_id('navbar-query')\n",
    "        searchBar.clear()\n",
    "        searchBar.send_keys(name)\n",
    "        searchBar.send_keys(Keys.RETURN)\n",
    "        assert \"No results found.\" not in driver.page_source\n",
    "        #Taking the top actor from the list of names that show up from the search\n",
    "        moreName = driver.find_element_by_partial_link_text('More name matches')\n",
    "        moreName.click()\n",
    "        personWanted = driver.find_element_by_class_name('findResult')\n",
    "        personURL = personWanted.find_element_by_tag_name('a')\n",
    "        personURL.click()\n",
    "        driver.current_url\n",
    "        scrape(name, driver.current_url)\n",
    "    count -= 1\n",
    "    \n",
    "actorDataFrame = pd.DataFrame(actorDataFrame, columns = ['actorName', 'actorMovieCount', 'actorAwardNominations', 'actorAwardWins'] )\n",
    "actorDataFrame.to_csv('actors.csv', index = False)\n",
    "actorDataFrame\n",
    "print(\"its done\")"
   ]
  },
  {
   "cell_type": "code",
   "execution_count": null,
   "metadata": {},
   "outputs": [],
   "source": []
  },
  {
   "cell_type": "code",
   "execution_count": null,
   "metadata": {},
   "outputs": [],
   "source": []
  },
  {
   "cell_type": "code",
   "execution_count": null,
   "metadata": {},
   "outputs": [],
   "source": []
  }
 ],
 "metadata": {
  "kernelspec": {
   "display_name": "theEnv",
   "language": "python",
   "name": "theenv"
  },
  "language_info": {
   "codemirror_mode": {
    "name": "ipython",
    "version": 3
   },
   "file_extension": ".py",
   "mimetype": "text/x-python",
   "name": "python",
   "nbconvert_exporter": "python",
   "pygments_lexer": "ipython3",
   "version": "3.7.0"
  }
 },
 "nbformat": 4,
 "nbformat_minor": 2
}
